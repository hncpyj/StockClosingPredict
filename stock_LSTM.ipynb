{
  "cells": [
    {
      "cell_type": "markdown",
      "metadata": {
        "id": "view-in-github",
        "colab_type": "text"
      },
      "source": [
        "<a href=\"https://colab.research.google.com/github/hncpyj/StockClosingPredict/blob/main/stock_LSTM.ipynb\" target=\"_parent\"><img src=\"https://colab.research.google.com/assets/colab-badge.svg\" alt=\"Open In Colab\"/></a>"
      ]
    },
    {
      "cell_type": "markdown",
      "id": "799063b3",
      "metadata": {
        "id": "799063b3"
      },
      "source": [
        "# LSTM 기반 주가 예측"
      ]
    },
    {
      "cell_type": "code",
      "execution_count": null,
      "id": "9fbc5933",
      "metadata": {
        "colab": {
          "base_uri": "https://localhost:8080/"
        },
        "id": "9fbc5933",
        "outputId": "9a0709ce-e16f-4c65-b930-674ee7f93e65"
      },
      "outputs": [
        {
          "output_type": "stream",
          "name": "stdout",
          "text": [
            "Collecting finance-datareader\n",
            "  Downloading finance_datareader-0.9.31-py3-none-any.whl (17 kB)\n",
            "Collecting requests-file\n",
            "  Downloading requests_file-1.5.1-py2.py3-none-any.whl (3.7 kB)\n",
            "Requirement already satisfied: tqdm in /usr/local/lib/python3.7/dist-packages (from finance-datareader) (4.62.3)\n",
            "Requirement already satisfied: lxml in /usr/local/lib/python3.7/dist-packages (from finance-datareader) (4.2.6)\n",
            "Requirement already satisfied: pandas>=0.19.2 in /usr/local/lib/python3.7/dist-packages (from finance-datareader) (1.3.5)\n",
            "Requirement already satisfied: requests>=2.3.0 in /usr/local/lib/python3.7/dist-packages (from finance-datareader) (2.23.0)\n",
            "Requirement already satisfied: numpy>=1.17.3 in /usr/local/lib/python3.7/dist-packages (from pandas>=0.19.2->finance-datareader) (1.21.5)\n",
            "Requirement already satisfied: python-dateutil>=2.7.3 in /usr/local/lib/python3.7/dist-packages (from pandas>=0.19.2->finance-datareader) (2.8.2)\n",
            "Requirement already satisfied: pytz>=2017.3 in /usr/local/lib/python3.7/dist-packages (from pandas>=0.19.2->finance-datareader) (2018.9)\n",
            "Requirement already satisfied: six>=1.5 in /usr/local/lib/python3.7/dist-packages (from python-dateutil>=2.7.3->pandas>=0.19.2->finance-datareader) (1.15.0)\n",
            "Requirement already satisfied: certifi>=2017.4.17 in /usr/local/lib/python3.7/dist-packages (from requests>=2.3.0->finance-datareader) (2021.10.8)\n",
            "Requirement already satisfied: urllib3!=1.25.0,!=1.25.1,<1.26,>=1.21.1 in /usr/local/lib/python3.7/dist-packages (from requests>=2.3.0->finance-datareader) (1.24.3)\n",
            "Requirement already satisfied: chardet<4,>=3.0.2 in /usr/local/lib/python3.7/dist-packages (from requests>=2.3.0->finance-datareader) (3.0.4)\n",
            "Requirement already satisfied: idna<3,>=2.5 in /usr/local/lib/python3.7/dist-packages (from requests>=2.3.0->finance-datareader) (2.10)\n",
            "Installing collected packages: requests-file, finance-datareader\n",
            "Successfully installed finance-datareader-0.9.31 requests-file-1.5.1\n"
          ]
        }
      ],
      "source": [
        "# pip install finance-datareader"
      ]
    },
    {
      "cell_type": "code",
      "execution_count": null,
      "id": "5c3cc02a",
      "metadata": {
        "id": "5c3cc02a"
      },
      "outputs": [],
      "source": [
        "# 주가 데이터 가져올 땐 해당 회사의 코드를 알아야 함"
      ]
    },
    {
      "cell_type": "code",
      "execution_count": null,
      "id": "96a76ebc",
      "metadata": {
        "id": "96a76ebc"
      },
      "outputs": [],
      "source": [
        "import FinanceDataReader as fdr"
      ]
    },
    {
      "cell_type": "code",
      "execution_count": null,
      "id": "823e2d07",
      "metadata": {
        "id": "823e2d07"
      },
      "outputs": [],
      "source": [
        "mc=fdr.DataReader(symbol='304670', start='20210217')"
      ]
    },
    {
      "cell_type": "code",
      "execution_count": null,
      "id": "20fb06c7",
      "metadata": {
        "colab": {
          "base_uri": "https://localhost:8080/",
          "height": 455
        },
        "id": "20fb06c7",
        "outputId": "5007be5c-4bea-49c0-d3c9-78c61de9db3a"
      },
      "outputs": [
        {
          "output_type": "execute_result",
          "data": {
            "text/html": [
              "\n",
              "  <div id=\"df-2741c390-2546-4fdb-bfb7-7a6e2a075824\">\n",
              "    <div class=\"colab-df-container\">\n",
              "      <div>\n",
              "<style scoped>\n",
              "    .dataframe tbody tr th:only-of-type {\n",
              "        vertical-align: middle;\n",
              "    }\n",
              "\n",
              "    .dataframe tbody tr th {\n",
              "        vertical-align: top;\n",
              "    }\n",
              "\n",
              "    .dataframe thead th {\n",
              "        text-align: right;\n",
              "    }\n",
              "</style>\n",
              "<table border=\"1\" class=\"dataframe\">\n",
              "  <thead>\n",
              "    <tr style=\"text-align: right;\">\n",
              "      <th></th>\n",
              "      <th>Open</th>\n",
              "      <th>High</th>\n",
              "      <th>Low</th>\n",
              "      <th>Close</th>\n",
              "      <th>Volume</th>\n",
              "      <th>Change</th>\n",
              "    </tr>\n",
              "    <tr>\n",
              "      <th>Date</th>\n",
              "      <th></th>\n",
              "      <th></th>\n",
              "      <th></th>\n",
              "      <th></th>\n",
              "      <th></th>\n",
              "      <th></th>\n",
              "    </tr>\n",
              "  </thead>\n",
              "  <tbody>\n",
              "    <tr>\n",
              "      <th>2021-02-17</th>\n",
              "      <td>7605</td>\n",
              "      <td>7630</td>\n",
              "      <td>7565</td>\n",
              "      <td>7595</td>\n",
              "      <td>15457</td>\n",
              "      <td>0.012667</td>\n",
              "    </tr>\n",
              "    <tr>\n",
              "      <th>2021-02-18</th>\n",
              "      <td>7510</td>\n",
              "      <td>7540</td>\n",
              "      <td>7500</td>\n",
              "      <td>7540</td>\n",
              "      <td>18618</td>\n",
              "      <td>-0.007242</td>\n",
              "    </tr>\n",
              "    <tr>\n",
              "      <th>2021-02-19</th>\n",
              "      <td>7565</td>\n",
              "      <td>7605</td>\n",
              "      <td>7560</td>\n",
              "      <td>7605</td>\n",
              "      <td>11877</td>\n",
              "      <td>0.008621</td>\n",
              "    </tr>\n",
              "    <tr>\n",
              "      <th>2021-02-22</th>\n",
              "      <td>7680</td>\n",
              "      <td>7750</td>\n",
              "      <td>7680</td>\n",
              "      <td>7730</td>\n",
              "      <td>12509</td>\n",
              "      <td>0.016437</td>\n",
              "    </tr>\n",
              "    <tr>\n",
              "      <th>2021-02-23</th>\n",
              "      <td>7720</td>\n",
              "      <td>7735</td>\n",
              "      <td>7700</td>\n",
              "      <td>7735</td>\n",
              "      <td>23770</td>\n",
              "      <td>0.000647</td>\n",
              "    </tr>\n",
              "    <tr>\n",
              "      <th>...</th>\n",
              "      <td>...</td>\n",
              "      <td>...</td>\n",
              "      <td>...</td>\n",
              "      <td>...</td>\n",
              "      <td>...</td>\n",
              "      <td>...</td>\n",
              "    </tr>\n",
              "    <tr>\n",
              "      <th>2022-02-10</th>\n",
              "      <td>7655</td>\n",
              "      <td>7690</td>\n",
              "      <td>7625</td>\n",
              "      <td>7655</td>\n",
              "      <td>8786</td>\n",
              "      <td>0.001963</td>\n",
              "    </tr>\n",
              "    <tr>\n",
              "      <th>2022-02-11</th>\n",
              "      <td>7690</td>\n",
              "      <td>7770</td>\n",
              "      <td>7690</td>\n",
              "      <td>7765</td>\n",
              "      <td>11746</td>\n",
              "      <td>0.014370</td>\n",
              "    </tr>\n",
              "    <tr>\n",
              "      <th>2022-02-14</th>\n",
              "      <td>7755</td>\n",
              "      <td>7755</td>\n",
              "      <td>7715</td>\n",
              "      <td>7730</td>\n",
              "      <td>5642</td>\n",
              "      <td>-0.004507</td>\n",
              "    </tr>\n",
              "    <tr>\n",
              "      <th>2022-02-15</th>\n",
              "      <td>7745</td>\n",
              "      <td>7745</td>\n",
              "      <td>7730</td>\n",
              "      <td>7745</td>\n",
              "      <td>2662</td>\n",
              "      <td>0.001940</td>\n",
              "    </tr>\n",
              "    <tr>\n",
              "      <th>2022-02-16</th>\n",
              "      <td>7825</td>\n",
              "      <td>7855</td>\n",
              "      <td>7825</td>\n",
              "      <td>7855</td>\n",
              "      <td>8969</td>\n",
              "      <td>0.014203</td>\n",
              "    </tr>\n",
              "  </tbody>\n",
              "</table>\n",
              "<p>248 rows × 6 columns</p>\n",
              "</div>\n",
              "      <button class=\"colab-df-convert\" onclick=\"convertToInteractive('df-2741c390-2546-4fdb-bfb7-7a6e2a075824')\"\n",
              "              title=\"Convert this dataframe to an interactive table.\"\n",
              "              style=\"display:none;\">\n",
              "        \n",
              "  <svg xmlns=\"http://www.w3.org/2000/svg\" height=\"24px\"viewBox=\"0 0 24 24\"\n",
              "       width=\"24px\">\n",
              "    <path d=\"M0 0h24v24H0V0z\" fill=\"none\"/>\n",
              "    <path d=\"M18.56 5.44l.94 2.06.94-2.06 2.06-.94-2.06-.94-.94-2.06-.94 2.06-2.06.94zm-11 1L8.5 8.5l.94-2.06 2.06-.94-2.06-.94L8.5 2.5l-.94 2.06-2.06.94zm10 10l.94 2.06.94-2.06 2.06-.94-2.06-.94-.94-2.06-.94 2.06-2.06.94z\"/><path d=\"M17.41 7.96l-1.37-1.37c-.4-.4-.92-.59-1.43-.59-.52 0-1.04.2-1.43.59L10.3 9.45l-7.72 7.72c-.78.78-.78 2.05 0 2.83L4 21.41c.39.39.9.59 1.41.59.51 0 1.02-.2 1.41-.59l7.78-7.78 2.81-2.81c.8-.78.8-2.07 0-2.86zM5.41 20L4 18.59l7.72-7.72 1.47 1.35L5.41 20z\"/>\n",
              "  </svg>\n",
              "      </button>\n",
              "      \n",
              "  <style>\n",
              "    .colab-df-container {\n",
              "      display:flex;\n",
              "      flex-wrap:wrap;\n",
              "      gap: 12px;\n",
              "    }\n",
              "\n",
              "    .colab-df-convert {\n",
              "      background-color: #E8F0FE;\n",
              "      border: none;\n",
              "      border-radius: 50%;\n",
              "      cursor: pointer;\n",
              "      display: none;\n",
              "      fill: #1967D2;\n",
              "      height: 32px;\n",
              "      padding: 0 0 0 0;\n",
              "      width: 32px;\n",
              "    }\n",
              "\n",
              "    .colab-df-convert:hover {\n",
              "      background-color: #E2EBFA;\n",
              "      box-shadow: 0px 1px 2px rgba(60, 64, 67, 0.3), 0px 1px 3px 1px rgba(60, 64, 67, 0.15);\n",
              "      fill: #174EA6;\n",
              "    }\n",
              "\n",
              "    [theme=dark] .colab-df-convert {\n",
              "      background-color: #3B4455;\n",
              "      fill: #D2E3FC;\n",
              "    }\n",
              "\n",
              "    [theme=dark] .colab-df-convert:hover {\n",
              "      background-color: #434B5C;\n",
              "      box-shadow: 0px 1px 3px 1px rgba(0, 0, 0, 0.15);\n",
              "      filter: drop-shadow(0px 1px 2px rgba(0, 0, 0, 0.3));\n",
              "      fill: #FFFFFF;\n",
              "    }\n",
              "  </style>\n",
              "\n",
              "      <script>\n",
              "        const buttonEl =\n",
              "          document.querySelector('#df-2741c390-2546-4fdb-bfb7-7a6e2a075824 button.colab-df-convert');\n",
              "        buttonEl.style.display =\n",
              "          google.colab.kernel.accessAllowed ? 'block' : 'none';\n",
              "\n",
              "        async function convertToInteractive(key) {\n",
              "          const element = document.querySelector('#df-2741c390-2546-4fdb-bfb7-7a6e2a075824');\n",
              "          const dataTable =\n",
              "            await google.colab.kernel.invokeFunction('convertToInteractive',\n",
              "                                                     [key], {});\n",
              "          if (!dataTable) return;\n",
              "\n",
              "          const docLinkHtml = 'Like what you see? Visit the ' +\n",
              "            '<a target=\"_blank\" href=https://colab.research.google.com/notebooks/data_table.ipynb>data table notebook</a>'\n",
              "            + ' to learn more about interactive tables.';\n",
              "          element.innerHTML = '';\n",
              "          dataTable['output_type'] = 'display_data';\n",
              "          await google.colab.output.renderOutput(dataTable, element);\n",
              "          const docLink = document.createElement('div');\n",
              "          docLink.innerHTML = docLinkHtml;\n",
              "          element.appendChild(docLink);\n",
              "        }\n",
              "      </script>\n",
              "    </div>\n",
              "  </div>\n",
              "  "
            ],
            "text/plain": [
              "            Open  High   Low  Close  Volume    Change\n",
              "Date                                                 \n",
              "2021-02-17  7605  7630  7565   7595   15457  0.012667\n",
              "2021-02-18  7510  7540  7500   7540   18618 -0.007242\n",
              "2021-02-19  7565  7605  7560   7605   11877  0.008621\n",
              "2021-02-22  7680  7750  7680   7730   12509  0.016437\n",
              "2021-02-23  7720  7735  7700   7735   23770  0.000647\n",
              "...          ...   ...   ...    ...     ...       ...\n",
              "2022-02-10  7655  7690  7625   7655    8786  0.001963\n",
              "2022-02-11  7690  7770  7690   7765   11746  0.014370\n",
              "2022-02-14  7755  7755  7715   7730    5642 -0.004507\n",
              "2022-02-15  7745  7745  7730   7745    2662  0.001940\n",
              "2022-02-16  7825  7855  7825   7855    8969  0.014203\n",
              "\n",
              "[248 rows x 6 columns]"
            ]
          },
          "metadata": {},
          "execution_count": 5
        }
      ],
      "source": [
        "mc"
      ]
    },
    {
      "cell_type": "code",
      "execution_count": null,
      "id": "7760f92a",
      "metadata": {
        "id": "7760f92a"
      },
      "outputs": [],
      "source": [
        "# apple=fdr.DataReader('AAPL', '1981')\n",
        "# apple=fdr.DataReader('AAPL', '1981-1', '1985-12-31')"
      ]
    },
    {
      "cell_type": "code",
      "execution_count": null,
      "id": "d953adc2",
      "metadata": {
        "id": "d953adc2"
      },
      "outputs": [],
      "source": [
        "# apple"
      ]
    },
    {
      "cell_type": "code",
      "execution_count": null,
      "id": "f0ed0ab0",
      "metadata": {
        "id": "f0ed0ab0"
      },
      "outputs": [],
      "source": [
        "# AMZN 주가 예측"
      ]
    },
    {
      "cell_type": "code",
      "execution_count": null,
      "id": "c1693aa7",
      "metadata": {
        "id": "c1693aa7"
      },
      "outputs": [],
      "source": [
        "amazon=fdr.DataReader('AMZN')"
      ]
    },
    {
      "cell_type": "code",
      "execution_count": null,
      "id": "cb53c171",
      "metadata": {
        "id": "cb53c171",
        "outputId": "89239a9b-1081-4f3e-a3e2-045b9d91016e"
      },
      "outputs": [
        {
          "data": {
            "text/html": [
              "<div>\n",
              "<style scoped>\n",
              "    .dataframe tbody tr th:only-of-type {\n",
              "        vertical-align: middle;\n",
              "    }\n",
              "\n",
              "    .dataframe tbody tr th {\n",
              "        vertical-align: top;\n",
              "    }\n",
              "\n",
              "    .dataframe thead th {\n",
              "        text-align: right;\n",
              "    }\n",
              "</style>\n",
              "<table border=\"1\" class=\"dataframe\">\n",
              "  <thead>\n",
              "    <tr style=\"text-align: right;\">\n",
              "      <th></th>\n",
              "      <th>Close</th>\n",
              "      <th>Open</th>\n",
              "      <th>High</th>\n",
              "      <th>Low</th>\n",
              "      <th>Volume</th>\n",
              "      <th>Change</th>\n",
              "    </tr>\n",
              "    <tr>\n",
              "      <th>Date</th>\n",
              "      <th></th>\n",
              "      <th></th>\n",
              "      <th></th>\n",
              "      <th></th>\n",
              "      <th></th>\n",
              "      <th></th>\n",
              "    </tr>\n",
              "  </thead>\n",
              "  <tbody>\n",
              "    <tr>\n",
              "      <th>1997-05-15</th>\n",
              "      <td>1.96</td>\n",
              "      <td>2.44</td>\n",
              "      <td>2.50</td>\n",
              "      <td>1.93</td>\n",
              "      <td>72160000.0</td>\n",
              "      <td>-0.9962</td>\n",
              "    </tr>\n",
              "    <tr>\n",
              "      <th>1997-05-16</th>\n",
              "      <td>1.73</td>\n",
              "      <td>1.97</td>\n",
              "      <td>1.98</td>\n",
              "      <td>1.71</td>\n",
              "      <td>14700000.0</td>\n",
              "      <td>-0.1173</td>\n",
              "    </tr>\n",
              "    <tr>\n",
              "      <th>1997-05-19</th>\n",
              "      <td>1.71</td>\n",
              "      <td>1.76</td>\n",
              "      <td>1.77</td>\n",
              "      <td>1.62</td>\n",
              "      <td>6110000.0</td>\n",
              "      <td>-0.0116</td>\n",
              "    </tr>\n",
              "    <tr>\n",
              "      <th>1997-05-20</th>\n",
              "      <td>1.64</td>\n",
              "      <td>1.73</td>\n",
              "      <td>1.75</td>\n",
              "      <td>1.64</td>\n",
              "      <td>5470000.0</td>\n",
              "      <td>-0.0409</td>\n",
              "    </tr>\n",
              "    <tr>\n",
              "      <th>1997-05-21</th>\n",
              "      <td>1.43</td>\n",
              "      <td>1.64</td>\n",
              "      <td>1.65</td>\n",
              "      <td>1.37</td>\n",
              "      <td>18850000.0</td>\n",
              "      <td>-0.1280</td>\n",
              "    </tr>\n",
              "    <tr>\n",
              "      <th>...</th>\n",
              "      <td>...</td>\n",
              "      <td>...</td>\n",
              "      <td>...</td>\n",
              "      <td>...</td>\n",
              "      <td>...</td>\n",
              "      <td>...</td>\n",
              "    </tr>\n",
              "    <tr>\n",
              "      <th>2021-11-08</th>\n",
              "      <td>3488.98</td>\n",
              "      <td>3523.24</td>\n",
              "      <td>3579.00</td>\n",
              "      <td>3487.86</td>\n",
              "      <td>3060000.0</td>\n",
              "      <td>-0.0085</td>\n",
              "    </tr>\n",
              "    <tr>\n",
              "      <th>2021-11-09</th>\n",
              "      <td>3576.23</td>\n",
              "      <td>3515.25</td>\n",
              "      <td>3593.77</td>\n",
              "      <td>3501.43</td>\n",
              "      <td>4280000.0</td>\n",
              "      <td>0.0250</td>\n",
              "    </tr>\n",
              "    <tr>\n",
              "      <th>2021-11-10</th>\n",
              "      <td>3482.05</td>\n",
              "      <td>3563.87</td>\n",
              "      <td>3605.45</td>\n",
              "      <td>3463.09</td>\n",
              "      <td>3970000.0</td>\n",
              "      <td>-0.0263</td>\n",
              "    </tr>\n",
              "    <tr>\n",
              "      <th>2021-11-11</th>\n",
              "      <td>3472.50</td>\n",
              "      <td>3513.00</td>\n",
              "      <td>3543.24</td>\n",
              "      <td>3467.47</td>\n",
              "      <td>2220000.0</td>\n",
              "      <td>-0.0027</td>\n",
              "    </tr>\n",
              "    <tr>\n",
              "      <th>2021-11-12</th>\n",
              "      <td>3525.15</td>\n",
              "      <td>3486.57</td>\n",
              "      <td>3540.32</td>\n",
              "      <td>3447.20</td>\n",
              "      <td>2630000.0</td>\n",
              "      <td>0.0152</td>\n",
              "    </tr>\n",
              "  </tbody>\n",
              "</table>\n",
              "<p>6168 rows × 6 columns</p>\n",
              "</div>"
            ],
            "text/plain": [
              "              Close     Open     High      Low      Volume  Change\n",
              "Date                                                              \n",
              "1997-05-15     1.96     2.44     2.50     1.93  72160000.0 -0.9962\n",
              "1997-05-16     1.73     1.97     1.98     1.71  14700000.0 -0.1173\n",
              "1997-05-19     1.71     1.76     1.77     1.62   6110000.0 -0.0116\n",
              "1997-05-20     1.64     1.73     1.75     1.64   5470000.0 -0.0409\n",
              "1997-05-21     1.43     1.64     1.65     1.37  18850000.0 -0.1280\n",
              "...             ...      ...      ...      ...         ...     ...\n",
              "2021-11-08  3488.98  3523.24  3579.00  3487.86   3060000.0 -0.0085\n",
              "2021-11-09  3576.23  3515.25  3593.77  3501.43   4280000.0  0.0250\n",
              "2021-11-10  3482.05  3563.87  3605.45  3463.09   3970000.0 -0.0263\n",
              "2021-11-11  3472.50  3513.00  3543.24  3467.47   2220000.0 -0.0027\n",
              "2021-11-12  3525.15  3486.57  3540.32  3447.20   2630000.0  0.0152\n",
              "\n",
              "[6168 rows x 6 columns]"
            ]
          },
          "execution_count": 10,
          "metadata": {},
          "output_type": "execute_result"
        }
      ],
      "source": [
        "amazon"
      ]
    },
    {
      "cell_type": "code",
      "execution_count": null,
      "id": "91623fa4",
      "metadata": {
        "colab": {
          "base_uri": "https://localhost:8080/",
          "height": 300
        },
        "id": "91623fa4",
        "outputId": "b5f52cbf-d4ce-40ec-ebf5-4509853ae6a0"
      },
      "outputs": [
        {
          "output_type": "execute_result",
          "data": {
            "text/html": [
              "\n",
              "  <div id=\"df-30839300-0f3f-4cb2-89b5-3839c9ce9c0b\">\n",
              "    <div class=\"colab-df-container\">\n",
              "      <div>\n",
              "<style scoped>\n",
              "    .dataframe tbody tr th:only-of-type {\n",
              "        vertical-align: middle;\n",
              "    }\n",
              "\n",
              "    .dataframe tbody tr th {\n",
              "        vertical-align: top;\n",
              "    }\n",
              "\n",
              "    .dataframe thead th {\n",
              "        text-align: right;\n",
              "    }\n",
              "</style>\n",
              "<table border=\"1\" class=\"dataframe\">\n",
              "  <thead>\n",
              "    <tr style=\"text-align: right;\">\n",
              "      <th></th>\n",
              "      <th>Open</th>\n",
              "      <th>High</th>\n",
              "      <th>Low</th>\n",
              "      <th>Close</th>\n",
              "      <th>Volume</th>\n",
              "      <th>Change</th>\n",
              "    </tr>\n",
              "  </thead>\n",
              "  <tbody>\n",
              "    <tr>\n",
              "      <th>count</th>\n",
              "      <td>248.000000</td>\n",
              "      <td>248.000000</td>\n",
              "      <td>248.000000</td>\n",
              "      <td>248.000000</td>\n",
              "      <td>248.000000</td>\n",
              "      <td>248.000000</td>\n",
              "    </tr>\n",
              "    <tr>\n",
              "      <th>mean</th>\n",
              "      <td>7529.596774</td>\n",
              "      <td>7544.637097</td>\n",
              "      <td>7499.193548</td>\n",
              "      <td>7521.713710</td>\n",
              "      <td>9716.887097</td>\n",
              "      <td>0.000222</td>\n",
              "    </tr>\n",
              "    <tr>\n",
              "      <th>std</th>\n",
              "      <td>297.609638</td>\n",
              "      <td>301.495714</td>\n",
              "      <td>296.881829</td>\n",
              "      <td>300.806586</td>\n",
              "      <td>10147.273974</td>\n",
              "      <td>0.008505</td>\n",
              "    </tr>\n",
              "    <tr>\n",
              "      <th>min</th>\n",
              "      <td>6950.000000</td>\n",
              "      <td>6965.000000</td>\n",
              "      <td>6940.000000</td>\n",
              "      <td>6965.000000</td>\n",
              "      <td>40.000000</td>\n",
              "      <td>-0.023102</td>\n",
              "    </tr>\n",
              "    <tr>\n",
              "      <th>25%</th>\n",
              "      <td>7270.000000</td>\n",
              "      <td>7285.000000</td>\n",
              "      <td>7243.750000</td>\n",
              "      <td>7255.000000</td>\n",
              "      <td>3452.750000</td>\n",
              "      <td>-0.005061</td>\n",
              "    </tr>\n",
              "    <tr>\n",
              "      <th>50%</th>\n",
              "      <td>7472.500000</td>\n",
              "      <td>7490.000000</td>\n",
              "      <td>7440.000000</td>\n",
              "      <td>7455.000000</td>\n",
              "      <td>7185.000000</td>\n",
              "      <td>-0.000650</td>\n",
              "    </tr>\n",
              "    <tr>\n",
              "      <th>75%</th>\n",
              "      <td>7820.000000</td>\n",
              "      <td>7841.250000</td>\n",
              "      <td>7795.000000</td>\n",
              "      <td>7817.500000</td>\n",
              "      <td>12002.000000</td>\n",
              "      <td>0.005143</td>\n",
              "    </tr>\n",
              "    <tr>\n",
              "      <th>max</th>\n",
              "      <td>8155.000000</td>\n",
              "      <td>8160.000000</td>\n",
              "      <td>8090.000000</td>\n",
              "      <td>8145.000000</td>\n",
              "      <td>86815.000000</td>\n",
              "      <td>0.025000</td>\n",
              "    </tr>\n",
              "  </tbody>\n",
              "</table>\n",
              "</div>\n",
              "      <button class=\"colab-df-convert\" onclick=\"convertToInteractive('df-30839300-0f3f-4cb2-89b5-3839c9ce9c0b')\"\n",
              "              title=\"Convert this dataframe to an interactive table.\"\n",
              "              style=\"display:none;\">\n",
              "        \n",
              "  <svg xmlns=\"http://www.w3.org/2000/svg\" height=\"24px\"viewBox=\"0 0 24 24\"\n",
              "       width=\"24px\">\n",
              "    <path d=\"M0 0h24v24H0V0z\" fill=\"none\"/>\n",
              "    <path d=\"M18.56 5.44l.94 2.06.94-2.06 2.06-.94-2.06-.94-.94-2.06-.94 2.06-2.06.94zm-11 1L8.5 8.5l.94-2.06 2.06-.94-2.06-.94L8.5 2.5l-.94 2.06-2.06.94zm10 10l.94 2.06.94-2.06 2.06-.94-2.06-.94-.94-2.06-.94 2.06-2.06.94z\"/><path d=\"M17.41 7.96l-1.37-1.37c-.4-.4-.92-.59-1.43-.59-.52 0-1.04.2-1.43.59L10.3 9.45l-7.72 7.72c-.78.78-.78 2.05 0 2.83L4 21.41c.39.39.9.59 1.41.59.51 0 1.02-.2 1.41-.59l7.78-7.78 2.81-2.81c.8-.78.8-2.07 0-2.86zM5.41 20L4 18.59l7.72-7.72 1.47 1.35L5.41 20z\"/>\n",
              "  </svg>\n",
              "      </button>\n",
              "      \n",
              "  <style>\n",
              "    .colab-df-container {\n",
              "      display:flex;\n",
              "      flex-wrap:wrap;\n",
              "      gap: 12px;\n",
              "    }\n",
              "\n",
              "    .colab-df-convert {\n",
              "      background-color: #E8F0FE;\n",
              "      border: none;\n",
              "      border-radius: 50%;\n",
              "      cursor: pointer;\n",
              "      display: none;\n",
              "      fill: #1967D2;\n",
              "      height: 32px;\n",
              "      padding: 0 0 0 0;\n",
              "      width: 32px;\n",
              "    }\n",
              "\n",
              "    .colab-df-convert:hover {\n",
              "      background-color: #E2EBFA;\n",
              "      box-shadow: 0px 1px 2px rgba(60, 64, 67, 0.3), 0px 1px 3px 1px rgba(60, 64, 67, 0.15);\n",
              "      fill: #174EA6;\n",
              "    }\n",
              "\n",
              "    [theme=dark] .colab-df-convert {\n",
              "      background-color: #3B4455;\n",
              "      fill: #D2E3FC;\n",
              "    }\n",
              "\n",
              "    [theme=dark] .colab-df-convert:hover {\n",
              "      background-color: #434B5C;\n",
              "      box-shadow: 0px 1px 3px 1px rgba(0, 0, 0, 0.15);\n",
              "      filter: drop-shadow(0px 1px 2px rgba(0, 0, 0, 0.3));\n",
              "      fill: #FFFFFF;\n",
              "    }\n",
              "  </style>\n",
              "\n",
              "      <script>\n",
              "        const buttonEl =\n",
              "          document.querySelector('#df-30839300-0f3f-4cb2-89b5-3839c9ce9c0b button.colab-df-convert');\n",
              "        buttonEl.style.display =\n",
              "          google.colab.kernel.accessAllowed ? 'block' : 'none';\n",
              "\n",
              "        async function convertToInteractive(key) {\n",
              "          const element = document.querySelector('#df-30839300-0f3f-4cb2-89b5-3839c9ce9c0b');\n",
              "          const dataTable =\n",
              "            await google.colab.kernel.invokeFunction('convertToInteractive',\n",
              "                                                     [key], {});\n",
              "          if (!dataTable) return;\n",
              "\n",
              "          const docLinkHtml = 'Like what you see? Visit the ' +\n",
              "            '<a target=\"_blank\" href=https://colab.research.google.com/notebooks/data_table.ipynb>data table notebook</a>'\n",
              "            + ' to learn more about interactive tables.';\n",
              "          element.innerHTML = '';\n",
              "          dataTable['output_type'] = 'display_data';\n",
              "          await google.colab.output.renderOutput(dataTable, element);\n",
              "          const docLink = document.createElement('div');\n",
              "          docLink.innerHTML = docLinkHtml;\n",
              "          element.appendChild(docLink);\n",
              "        }\n",
              "      </script>\n",
              "    </div>\n",
              "  </div>\n",
              "  "
            ],
            "text/plain": [
              "              Open         High  ...        Volume      Change\n",
              "count   248.000000   248.000000  ...    248.000000  248.000000\n",
              "mean   7529.596774  7544.637097  ...   9716.887097    0.000222\n",
              "std     297.609638   301.495714  ...  10147.273974    0.008505\n",
              "min    6950.000000  6965.000000  ...     40.000000   -0.023102\n",
              "25%    7270.000000  7285.000000  ...   3452.750000   -0.005061\n",
              "50%    7472.500000  7490.000000  ...   7185.000000   -0.000650\n",
              "75%    7820.000000  7841.250000  ...  12002.000000    0.005143\n",
              "max    8155.000000  8160.000000  ...  86815.000000    0.025000\n",
              "\n",
              "[8 rows x 6 columns]"
            ]
          },
          "metadata": {},
          "execution_count": 6
        }
      ],
      "source": [
        "#mc로 변경\n",
        "mc.describe()"
      ]
    },
    {
      "cell_type": "code",
      "execution_count": null,
      "id": "04aa073d",
      "metadata": {
        "colab": {
          "base_uri": "https://localhost:8080/"
        },
        "id": "04aa073d",
        "outputId": "113b9fbd-a0d9-4c67-fd58-6132b7be3998"
      },
      "outputs": [
        {
          "output_type": "execute_result",
          "data": {
            "text/plain": [
              "Date\n",
              "2021-02-17    7595\n",
              "2021-02-18    7540\n",
              "2021-02-19    7605\n",
              "2021-02-22    7730\n",
              "2021-02-23    7735\n",
              "              ... \n",
              "2022-02-10    7655\n",
              "2022-02-11    7765\n",
              "2022-02-14    7730\n",
              "2022-02-15    7745\n",
              "2022-02-16    7855\n",
              "Name: Close, Length: 248, dtype: int64"
            ]
          },
          "metadata": {},
          "execution_count": 7
        }
      ],
      "source": [
        "mc['Close']"
      ]
    },
    {
      "cell_type": "code",
      "execution_count": null,
      "id": "e900839e",
      "metadata": {
        "id": "e900839e"
      },
      "outputs": [],
      "source": [
        "#시간의 흐름에 따른 종가의 변화 확인\n",
        "\n",
        "import seaborn as sns\n",
        "import numpy as np\n",
        "import pandas as pd\n",
        "import matplotlib.pyplot as plt"
      ]
    },
    {
      "cell_type": "code",
      "execution_count": null,
      "id": "a201591b",
      "metadata": {
        "colab": {
          "base_uri": "https://localhost:8080/",
          "height": 355
        },
        "id": "a201591b",
        "outputId": "2bd2a250-b4b7-4f50-9bb5-3ef18d28c88b"
      },
      "outputs": [
        {
          "output_type": "execute_result",
          "data": {
            "text/plain": [
              "<matplotlib.axes._subplots.AxesSubplot at 0x7f80f1681810>"
            ]
          },
          "metadata": {},
          "execution_count": 10
        },
        {
          "output_type": "display_data",
          "data": {
            "image/png": "[encoded data removed]",
            "text/plain": [
              "<Figure size 1080x360 with 1 Axes>"
            ]
          },
          "metadata": {
            "needs_background": "light"
          }
        }
      ],
      "source": [
        "plt.figure(figsize=(15,5))\n",
        "sns.lineplot(x=mc.index,y=mc['Close'])"
      ]
    },
    {
      "cell_type": "code",
      "execution_count": null,
      "id": "9d583b1c",
      "metadata": {
        "id": "9d583b1c"
      },
      "outputs": [],
      "source": [
        "# LSTM 사실 알고보면 잘못된 모델.. 맹신 x\n"
      ]
    },
    {
      "cell_type": "code",
      "execution_count": null,
      "id": "dd003540",
      "metadata": {
        "id": "dd003540"
      },
      "outputs": [],
      "source": [
        "from sklearn.preprocessing import MinMaxScaler"
      ]
    },
    {
      "cell_type": "code",
      "execution_count": null,
      "id": "0129edfb",
      "metadata": {
        "colab": {
          "base_uri": "https://localhost:8080/"
        },
        "id": "0129edfb",
        "outputId": "58e39c9a-6bd3-4dba-fe6e-25e70b377190"
      },
      "outputs": [
        {
          "output_type": "execute_result",
          "data": {
            "text/plain": [
              "Index(['Open', 'High', 'Low', 'Close', 'Volume', 'Change'], dtype='object')"
            ]
          },
          "metadata": {},
          "execution_count": 12
        }
      ],
      "source": [
        "mc.columns"
      ]
    },
    {
      "cell_type": "code",
      "execution_count": null,
      "id": "94aa1625",
      "metadata": {
        "id": "94aa1625"
      },
      "outputs": [],
      "source": [
        "mms=MinMaxScaler()\n",
        "az_scaled=mms.fit_transform(mc[['Open', 'High', 'Low', 'Close', 'Volume']])"
      ]
    },
    {
      "cell_type": "code",
      "execution_count": null,
      "id": "1d7307dd",
      "metadata": {
        "colab": {
          "base_uri": "https://localhost:8080/"
        },
        "id": "1d7307dd",
        "outputId": "c060572d-4cc7-457d-88a7-1d72b17b9faf"
      },
      "outputs": [
        {
          "output_type": "execute_result",
          "data": {
            "text/plain": [
              "array([[0.54356846, 0.55648536, 0.54347826, 0.53389831, 0.17766638],\n",
              "       [0.46473029, 0.48117155, 0.48695652, 0.48728814, 0.21409392],\n",
              "       [0.51037344, 0.53556485, 0.53913043, 0.54237288, 0.13641026],\n",
              "       ...,\n",
              "       [0.66804979, 0.66108787, 0.67391304, 0.64830508, 0.06455776],\n",
              "       [0.65975104, 0.65271967, 0.68695652, 0.66101695, 0.03021608],\n",
              "       [0.72614108, 0.74476987, 0.76956522, 0.75423729, 0.1028983 ]])"
            ]
          },
          "metadata": {},
          "execution_count": 14
        }
      ],
      "source": [
        "az_scaled"
      ]
    },
    {
      "cell_type": "code",
      "execution_count": null,
      "id": "9599e579",
      "metadata": {
        "id": "9599e579"
      },
      "outputs": [],
      "source": [
        "az_scaled=pd.DataFrame(az_scaled)"
      ]
    },
    {
      "cell_type": "code",
      "execution_count": null,
      "id": "a74114fd",
      "metadata": {
        "id": "a74114fd"
      },
      "outputs": [],
      "source": [
        "az_scaled.columns=['Open', 'High', 'Low', 'Close', 'Volume']"
      ]
    },
    {
      "cell_type": "code",
      "execution_count": null,
      "id": "15535e40",
      "metadata": {
        "colab": {
          "base_uri": "https://localhost:8080/",
          "height": 423
        },
        "id": "15535e40",
        "outputId": "e6b552e6-088c-4e79-8d55-574399e5daef"
      },
      "outputs": [
        {
          "output_type": "execute_result",
          "data": {
            "text/html": [
              "\n",
              "  <div id=\"df-f3b5dc0a-6d3f-49e1-88f0-21058516cbd4\">\n",
              "    <div class=\"colab-df-container\">\n",
              "      <div>\n",
              "<style scoped>\n",
              "    .dataframe tbody tr th:only-of-type {\n",
              "        vertical-align: middle;\n",
              "    }\n",
              "\n",
              "    .dataframe tbody tr th {\n",
              "        vertical-align: top;\n",
              "    }\n",
              "\n",
              "    .dataframe thead th {\n",
              "        text-align: right;\n",
              "    }\n",
              "</style>\n",
              "<table border=\"1\" class=\"dataframe\">\n",
              "  <thead>\n",
              "    <tr style=\"text-align: right;\">\n",
              "      <th></th>\n",
              "      <th>Open</th>\n",
              "      <th>High</th>\n",
              "      <th>Low</th>\n",
              "      <th>Close</th>\n",
              "      <th>Volume</th>\n",
              "    </tr>\n",
              "  </thead>\n",
              "  <tbody>\n",
              "    <tr>\n",
              "      <th>0</th>\n",
              "      <td>0.543568</td>\n",
              "      <td>0.556485</td>\n",
              "      <td>0.543478</td>\n",
              "      <td>0.533898</td>\n",
              "      <td>0.177666</td>\n",
              "    </tr>\n",
              "    <tr>\n",
              "      <th>1</th>\n",
              "      <td>0.464730</td>\n",
              "      <td>0.481172</td>\n",
              "      <td>0.486957</td>\n",
              "      <td>0.487288</td>\n",
              "      <td>0.214094</td>\n",
              "    </tr>\n",
              "    <tr>\n",
              "      <th>2</th>\n",
              "      <td>0.510373</td>\n",
              "      <td>0.535565</td>\n",
              "      <td>0.539130</td>\n",
              "      <td>0.542373</td>\n",
              "      <td>0.136410</td>\n",
              "    </tr>\n",
              "    <tr>\n",
              "      <th>3</th>\n",
              "      <td>0.605809</td>\n",
              "      <td>0.656904</td>\n",
              "      <td>0.643478</td>\n",
              "      <td>0.648305</td>\n",
              "      <td>0.143693</td>\n",
              "    </tr>\n",
              "    <tr>\n",
              "      <th>4</th>\n",
              "      <td>0.639004</td>\n",
              "      <td>0.644351</td>\n",
              "      <td>0.660870</td>\n",
              "      <td>0.652542</td>\n",
              "      <td>0.273466</td>\n",
              "    </tr>\n",
              "    <tr>\n",
              "      <th>...</th>\n",
              "      <td>...</td>\n",
              "      <td>...</td>\n",
              "      <td>...</td>\n",
              "      <td>...</td>\n",
              "      <td>...</td>\n",
              "    </tr>\n",
              "    <tr>\n",
              "      <th>243</th>\n",
              "      <td>0.585062</td>\n",
              "      <td>0.606695</td>\n",
              "      <td>0.595652</td>\n",
              "      <td>0.584746</td>\n",
              "      <td>0.100789</td>\n",
              "    </tr>\n",
              "    <tr>\n",
              "      <th>244</th>\n",
              "      <td>0.614108</td>\n",
              "      <td>0.673640</td>\n",
              "      <td>0.652174</td>\n",
              "      <td>0.677966</td>\n",
              "      <td>0.134901</td>\n",
              "    </tr>\n",
              "    <tr>\n",
              "      <th>245</th>\n",
              "      <td>0.668050</td>\n",
              "      <td>0.661088</td>\n",
              "      <td>0.673913</td>\n",
              "      <td>0.648305</td>\n",
              "      <td>0.064558</td>\n",
              "    </tr>\n",
              "    <tr>\n",
              "      <th>246</th>\n",
              "      <td>0.659751</td>\n",
              "      <td>0.652720</td>\n",
              "      <td>0.686957</td>\n",
              "      <td>0.661017</td>\n",
              "      <td>0.030216</td>\n",
              "    </tr>\n",
              "    <tr>\n",
              "      <th>247</th>\n",
              "      <td>0.726141</td>\n",
              "      <td>0.744770</td>\n",
              "      <td>0.769565</td>\n",
              "      <td>0.754237</td>\n",
              "      <td>0.102898</td>\n",
              "    </tr>\n",
              "  </tbody>\n",
              "</table>\n",
              "<p>248 rows × 5 columns</p>\n",
              "</div>\n",
              "      <button class=\"colab-df-convert\" onclick=\"convertToInteractive('df-f3b5dc0a-6d3f-49e1-88f0-21058516cbd4')\"\n",
              "              title=\"Convert this dataframe to an interactive table.\"\n",
              "              style=\"display:none;\">\n",
              "        \n",
              "  <svg xmlns=\"http://www.w3.org/2000/svg\" height=\"24px\"viewBox=\"0 0 24 24\"\n",
              "       width=\"24px\">\n",
              "    <path d=\"M0 0h24v24H0V0z\" fill=\"none\"/>\n",
              "    <path d=\"M18.56 5.44l.94 2.06.94-2.06 2.06-.94-2.06-.94-.94-2.06-.94 2.06-2.06.94zm-11 1L8.5 8.5l.94-2.06 2.06-.94-2.06-.94L8.5 2.5l-.94 2.06-2.06.94zm10 10l.94 2.06.94-2.06 2.06-.94-2.06-.94-.94-2.06-.94 2.06-2.06.94z\"/><path d=\"M17.41 7.96l-1.37-1.37c-.4-.4-.92-.59-1.43-.59-.52 0-1.04.2-1.43.59L10.3 9.45l-7.72 7.72c-.78.78-.78 2.05 0 2.83L4 21.41c.39.39.9.59 1.41.59.51 0 1.02-.2 1.41-.59l7.78-7.78 2.81-2.81c.8-.78.8-2.07 0-2.86zM5.41 20L4 18.59l7.72-7.72 1.47 1.35L5.41 20z\"/>\n",
              "  </svg>\n",
              "      </button>\n",
              "      \n",
              "  <style>\n",
              "    .colab-df-container {\n",
              "      display:flex;\n",
              "      flex-wrap:wrap;\n",
              "      gap: 12px;\n",
              "    }\n",
              "\n",
              "    .colab-df-convert {\n",
              "      background-color: #E8F0FE;\n",
              "      border: none;\n",
              "      border-radius: 50%;\n",
              "      cursor: pointer;\n",
              "      display: none;\n",
              "      fill: #1967D2;\n",
              "      height: 32px;\n",
              "      padding: 0 0 0 0;\n",
              "      width: 32px;\n",
              "    }\n",
              "\n",
              "    .colab-df-convert:hover {\n",
              "      background-color: #E2EBFA;\n",
              "      box-shadow: 0px 1px 2px rgba(60, 64, 67, 0.3), 0px 1px 3px 1px rgba(60, 64, 67, 0.15);\n",
              "      fill: #174EA6;\n",
              "    }\n",
              "\n",
              "    [theme=dark] .colab-df-convert {\n",
              "      background-color: #3B4455;\n",
              "      fill: #D2E3FC;\n",
              "    }\n",
              "\n",
              "    [theme=dark] .colab-df-convert:hover {\n",
              "      background-color: #434B5C;\n",
              "      box-shadow: 0px 1px 3px 1px rgba(0, 0, 0, 0.15);\n",
              "      filter: drop-shadow(0px 1px 2px rgba(0, 0, 0, 0.3));\n",
              "      fill: #FFFFFF;\n",
              "    }\n",
              "  </style>\n",
              "\n",
              "      <script>\n",
              "        const buttonEl =\n",
              "          document.querySelector('#df-f3b5dc0a-6d3f-49e1-88f0-21058516cbd4 button.colab-df-convert');\n",
              "        buttonEl.style.display =\n",
              "          google.colab.kernel.accessAllowed ? 'block' : 'none';\n",
              "\n",
              "        async function convertToInteractive(key) {\n",
              "          const element = document.querySelector('#df-f3b5dc0a-6d3f-49e1-88f0-21058516cbd4');\n",
              "          const dataTable =\n",
              "            await google.colab.kernel.invokeFunction('convertToInteractive',\n",
              "                                                     [key], {});\n",
              "          if (!dataTable) return;\n",
              "\n",
              "          const docLinkHtml = 'Like what you see? Visit the ' +\n",
              "            '<a target=\"_blank\" href=https://colab.research.google.com/notebooks/data_table.ipynb>data table notebook</a>'\n",
              "            + ' to learn more about interactive tables.';\n",
              "          element.innerHTML = '';\n",
              "          dataTable['output_type'] = 'display_data';\n",
              "          await google.colab.output.renderOutput(dataTable, element);\n",
              "          const docLink = document.createElement('div');\n",
              "          docLink.innerHTML = docLinkHtml;\n",
              "          element.appendChild(docLink);\n",
              "        }\n",
              "      </script>\n",
              "    </div>\n",
              "  </div>\n",
              "  "
            ],
            "text/plain": [
              "         Open      High       Low     Close    Volume\n",
              "0    0.543568  0.556485  0.543478  0.533898  0.177666\n",
              "1    0.464730  0.481172  0.486957  0.487288  0.214094\n",
              "2    0.510373  0.535565  0.539130  0.542373  0.136410\n",
              "3    0.605809  0.656904  0.643478  0.648305  0.143693\n",
              "4    0.639004  0.644351  0.660870  0.652542  0.273466\n",
              "..        ...       ...       ...       ...       ...\n",
              "243  0.585062  0.606695  0.595652  0.584746  0.100789\n",
              "244  0.614108  0.673640  0.652174  0.677966  0.134901\n",
              "245  0.668050  0.661088  0.673913  0.648305  0.064558\n",
              "246  0.659751  0.652720  0.686957  0.661017  0.030216\n",
              "247  0.726141  0.744770  0.769565  0.754237  0.102898\n",
              "\n",
              "[248 rows x 5 columns]"
            ]
          },
          "metadata": {},
          "execution_count": 17
        }
      ],
      "source": [
        "az_scaled"
      ]
    },
    {
      "cell_type": "code",
      "execution_count": null,
      "id": "fc89128b",
      "metadata": {
        "id": "fc89128b"
      },
      "outputs": [],
      "source": [
        "# az_scaled.columns={['Open']:1} #이런식으로 하는게 있었는데..에러남"
      ]
    },
    {
      "cell_type": "code",
      "execution_count": null,
      "id": "68918117",
      "metadata": {
        "id": "68918117"
      },
      "outputs": [],
      "source": [
        "# 학습데이터 : 과거 ~300일 이전까지의 데이터\n",
        "# 테스트데이터 : 300일 전~ 현재까지의 데이터\n",
        "train=az_scaled[:-300]\n",
        "test=az_scaled[-300:]"
      ]
    },
    {
      "cell_type": "code",
      "execution_count": null,
      "id": "a4f8669e",
      "metadata": {
        "colab": {
          "base_uri": "https://localhost:8080/",
          "height": 423
        },
        "id": "a4f8669e",
        "outputId": "04d891f6-a6e6-4ce2-9828-61861159d2ec"
      },
      "outputs": [
        {
          "output_type": "execute_result",
          "data": {
            "text/html": [
              "\n",
              "  <div id=\"df-dc844632-71e1-4033-95e6-992fc723f8d2\">\n",
              "    <div class=\"colab-df-container\">\n",
              "      <div>\n",
              "<style scoped>\n",
              "    .dataframe tbody tr th:only-of-type {\n",
              "        vertical-align: middle;\n",
              "    }\n",
              "\n",
              "    .dataframe tbody tr th {\n",
              "        vertical-align: top;\n",
              "    }\n",
              "\n",
              "    .dataframe thead th {\n",
              "        text-align: right;\n",
              "    }\n",
              "</style>\n",
              "<table border=\"1\" class=\"dataframe\">\n",
              "  <thead>\n",
              "    <tr style=\"text-align: right;\">\n",
              "      <th></th>\n",
              "      <th>Open</th>\n",
              "      <th>High</th>\n",
              "      <th>Low</th>\n",
              "      <th>Close</th>\n",
              "      <th>Volume</th>\n",
              "    </tr>\n",
              "  </thead>\n",
              "  <tbody>\n",
              "    <tr>\n",
              "      <th>0</th>\n",
              "      <td>0.543568</td>\n",
              "      <td>0.556485</td>\n",
              "      <td>0.543478</td>\n",
              "      <td>0.533898</td>\n",
              "      <td>0.177666</td>\n",
              "    </tr>\n",
              "    <tr>\n",
              "      <th>1</th>\n",
              "      <td>0.464730</td>\n",
              "      <td>0.481172</td>\n",
              "      <td>0.486957</td>\n",
              "      <td>0.487288</td>\n",
              "      <td>0.214094</td>\n",
              "    </tr>\n",
              "    <tr>\n",
              "      <th>2</th>\n",
              "      <td>0.510373</td>\n",
              "      <td>0.535565</td>\n",
              "      <td>0.539130</td>\n",
              "      <td>0.542373</td>\n",
              "      <td>0.136410</td>\n",
              "    </tr>\n",
              "    <tr>\n",
              "      <th>3</th>\n",
              "      <td>0.605809</td>\n",
              "      <td>0.656904</td>\n",
              "      <td>0.643478</td>\n",
              "      <td>0.648305</td>\n",
              "      <td>0.143693</td>\n",
              "    </tr>\n",
              "    <tr>\n",
              "      <th>4</th>\n",
              "      <td>0.639004</td>\n",
              "      <td>0.644351</td>\n",
              "      <td>0.660870</td>\n",
              "      <td>0.652542</td>\n",
              "      <td>0.273466</td>\n",
              "    </tr>\n",
              "    <tr>\n",
              "      <th>...</th>\n",
              "      <td>...</td>\n",
              "      <td>...</td>\n",
              "      <td>...</td>\n",
              "      <td>...</td>\n",
              "      <td>...</td>\n",
              "    </tr>\n",
              "    <tr>\n",
              "      <th>243</th>\n",
              "      <td>0.585062</td>\n",
              "      <td>0.606695</td>\n",
              "      <td>0.595652</td>\n",
              "      <td>0.584746</td>\n",
              "      <td>0.100789</td>\n",
              "    </tr>\n",
              "    <tr>\n",
              "      <th>244</th>\n",
              "      <td>0.614108</td>\n",
              "      <td>0.673640</td>\n",
              "      <td>0.652174</td>\n",
              "      <td>0.677966</td>\n",
              "      <td>0.134901</td>\n",
              "    </tr>\n",
              "    <tr>\n",
              "      <th>245</th>\n",
              "      <td>0.668050</td>\n",
              "      <td>0.661088</td>\n",
              "      <td>0.673913</td>\n",
              "      <td>0.648305</td>\n",
              "      <td>0.064558</td>\n",
              "    </tr>\n",
              "    <tr>\n",
              "      <th>246</th>\n",
              "      <td>0.659751</td>\n",
              "      <td>0.652720</td>\n",
              "      <td>0.686957</td>\n",
              "      <td>0.661017</td>\n",
              "      <td>0.030216</td>\n",
              "    </tr>\n",
              "    <tr>\n",
              "      <th>247</th>\n",
              "      <td>0.726141</td>\n",
              "      <td>0.744770</td>\n",
              "      <td>0.769565</td>\n",
              "      <td>0.754237</td>\n",
              "      <td>0.102898</td>\n",
              "    </tr>\n",
              "  </tbody>\n",
              "</table>\n",
              "<p>248 rows × 5 columns</p>\n",
              "</div>\n",
              "      <button class=\"colab-df-convert\" onclick=\"convertToInteractive('df-dc844632-71e1-4033-95e6-992fc723f8d2')\"\n",
              "              title=\"Convert this dataframe to an interactive table.\"\n",
              "              style=\"display:none;\">\n",
              "        \n",
              "  <svg xmlns=\"http://www.w3.org/2000/svg\" height=\"24px\"viewBox=\"0 0 24 24\"\n",
              "       width=\"24px\">\n",
              "    <path d=\"M0 0h24v24H0V0z\" fill=\"none\"/>\n",
              "    <path d=\"M18.56 5.44l.94 2.06.94-2.06 2.06-.94-2.06-.94-.94-2.06-.94 2.06-2.06.94zm-11 1L8.5 8.5l.94-2.06 2.06-.94-2.06-.94L8.5 2.5l-.94 2.06-2.06.94zm10 10l.94 2.06.94-2.06 2.06-.94-2.06-.94-.94-2.06-.94 2.06-2.06.94z\"/><path d=\"M17.41 7.96l-1.37-1.37c-.4-.4-.92-.59-1.43-.59-.52 0-1.04.2-1.43.59L10.3 9.45l-7.72 7.72c-.78.78-.78 2.05 0 2.83L4 21.41c.39.39.9.59 1.41.59.51 0 1.02-.2 1.41-.59l7.78-7.78 2.81-2.81c.8-.78.8-2.07 0-2.86zM5.41 20L4 18.59l7.72-7.72 1.47 1.35L5.41 20z\"/>\n",
              "  </svg>\n",
              "      </button>\n",
              "      \n",
              "  <style>\n",
              "    .colab-df-container {\n",
              "      display:flex;\n",
              "      flex-wrap:wrap;\n",
              "      gap: 12px;\n",
              "    }\n",
              "\n",
              "    .colab-df-convert {\n",
              "      background-color: #E8F0FE;\n",
              "      border: none;\n",
              "      border-radius: 50%;\n",
              "      cursor: pointer;\n",
              "      display: none;\n",
              "      fill: #1967D2;\n",
              "      height: 32px;\n",
              "      padding: 0 0 0 0;\n",
              "      width: 32px;\n",
              "    }\n",
              "\n",
              "    .colab-df-convert:hover {\n",
              "      background-color: #E2EBFA;\n",
              "      box-shadow: 0px 1px 2px rgba(60, 64, 67, 0.3), 0px 1px 3px 1px rgba(60, 64, 67, 0.15);\n",
              "      fill: #174EA6;\n",
              "    }\n",
              "\n",
              "    [theme=dark] .colab-df-convert {\n",
              "      background-color: #3B4455;\n",
              "      fill: #D2E3FC;\n",
              "    }\n",
              "\n",
              "    [theme=dark] .colab-df-convert:hover {\n",
              "      background-color: #434B5C;\n",
              "      box-shadow: 0px 1px 3px 1px rgba(0, 0, 0, 0.15);\n",
              "      filter: drop-shadow(0px 1px 2px rgba(0, 0, 0, 0.3));\n",
              "      fill: #FFFFFF;\n",
              "    }\n",
              "  </style>\n",
              "\n",
              "      <script>\n",
              "        const buttonEl =\n",
              "          document.querySelector('#df-dc844632-71e1-4033-95e6-992fc723f8d2 button.colab-df-convert');\n",
              "        buttonEl.style.display =\n",
              "          google.colab.kernel.accessAllowed ? 'block' : 'none';\n",
              "\n",
              "        async function convertToInteractive(key) {\n",
              "          const element = document.querySelector('#df-dc844632-71e1-4033-95e6-992fc723f8d2');\n",
              "          const dataTable =\n",
              "            await google.colab.kernel.invokeFunction('convertToInteractive',\n",
              "                                                     [key], {});\n",
              "          if (!dataTable) return;\n",
              "\n",
              "          const docLinkHtml = 'Like what you see? Visit the ' +\n",
              "            '<a target=\"_blank\" href=https://colab.research.google.com/notebooks/data_table.ipynb>data table notebook</a>'\n",
              "            + ' to learn more about interactive tables.';\n",
              "          element.innerHTML = '';\n",
              "          dataTable['output_type'] = 'display_data';\n",
              "          await google.colab.output.renderOutput(dataTable, element);\n",
              "          const docLink = document.createElement('div');\n",
              "          docLink.innerHTML = docLinkHtml;\n",
              "          element.appendChild(docLink);\n",
              "        }\n",
              "      </script>\n",
              "    </div>\n",
              "  </div>\n",
              "  "
            ],
            "text/plain": [
              "         Open      High       Low     Close    Volume\n",
              "0    0.543568  0.556485  0.543478  0.533898  0.177666\n",
              "1    0.464730  0.481172  0.486957  0.487288  0.214094\n",
              "2    0.510373  0.535565  0.539130  0.542373  0.136410\n",
              "3    0.605809  0.656904  0.643478  0.648305  0.143693\n",
              "4    0.639004  0.644351  0.660870  0.652542  0.273466\n",
              "..        ...       ...       ...       ...       ...\n",
              "243  0.585062  0.606695  0.595652  0.584746  0.100789\n",
              "244  0.614108  0.673640  0.652174  0.677966  0.134901\n",
              "245  0.668050  0.661088  0.673913  0.648305  0.064558\n",
              "246  0.659751  0.652720  0.686957  0.661017  0.030216\n",
              "247  0.726141  0.744770  0.769565  0.754237  0.102898\n",
              "\n",
              "[248 rows x 5 columns]"
            ]
          },
          "metadata": {},
          "execution_count": 32
        }
      ],
      "source": [
        "test"
      ]
    },
    {
      "cell_type": "code",
      "execution_count": null,
      "id": "ddcdfcb5",
      "metadata": {
        "id": "ddcdfcb5"
      },
      "outputs": [],
      "source": [
        "# window_size를 30으로 설정, 30일동안의 주가 데이터 -> 다음날 주가 종가 예측\n",
        "window_size=30"
      ]
    },
    {
      "cell_type": "code",
      "execution_count": null,
      "id": "07f932fa",
      "metadata": {
        "colab": {
          "base_uri": "https://localhost:8080/",
          "height": 49
        },
        "id": "07f932fa",
        "outputId": "7228ce75-f2a3-44fd-ed1d-aeb0756f89b4"
      },
      "outputs": [
        {
          "output_type": "execute_result",
          "data": {
            "text/html": [
              "\n",
              "  <div id=\"df-7ed4460b-f3f5-46f0-8c0a-5960327173b6\">\n",
              "    <div class=\"colab-df-container\">\n",
              "      <div>\n",
              "<style scoped>\n",
              "    .dataframe tbody tr th:only-of-type {\n",
              "        vertical-align: middle;\n",
              "    }\n",
              "\n",
              "    .dataframe tbody tr th {\n",
              "        vertical-align: top;\n",
              "    }\n",
              "\n",
              "    .dataframe thead th {\n",
              "        text-align: right;\n",
              "    }\n",
              "</style>\n",
              "<table border=\"1\" class=\"dataframe\">\n",
              "  <thead>\n",
              "    <tr style=\"text-align: right;\">\n",
              "      <th></th>\n",
              "      <th>Open</th>\n",
              "      <th>High</th>\n",
              "      <th>Low</th>\n",
              "      <th>Close</th>\n",
              "      <th>Volume</th>\n",
              "    </tr>\n",
              "  </thead>\n",
              "  <tbody>\n",
              "  </tbody>\n",
              "</table>\n",
              "</div>\n",
              "      <button class=\"colab-df-convert\" onclick=\"convertToInteractive('df-7ed4460b-f3f5-46f0-8c0a-5960327173b6')\"\n",
              "              title=\"Convert this dataframe to an interactive table.\"\n",
              "              style=\"display:none;\">\n",
              "        \n",
              "  <svg xmlns=\"http://www.w3.org/2000/svg\" height=\"24px\"viewBox=\"0 0 24 24\"\n",
              "       width=\"24px\">\n",
              "    <path d=\"M0 0h24v24H0V0z\" fill=\"none\"/>\n",
              "    <path d=\"M18.56 5.44l.94 2.06.94-2.06 2.06-.94-2.06-.94-.94-2.06-.94 2.06-2.06.94zm-11 1L8.5 8.5l.94-2.06 2.06-.94-2.06-.94L8.5 2.5l-.94 2.06-2.06.94zm10 10l.94 2.06.94-2.06 2.06-.94-2.06-.94-.94-2.06-.94 2.06-2.06.94z\"/><path d=\"M17.41 7.96l-1.37-1.37c-.4-.4-.92-.59-1.43-.59-.52 0-1.04.2-1.43.59L10.3 9.45l-7.72 7.72c-.78.78-.78 2.05 0 2.83L4 21.41c.39.39.9.59 1.41.59.51 0 1.02-.2 1.41-.59l7.78-7.78 2.81-2.81c.8-.78.8-2.07 0-2.86zM5.41 20L4 18.59l7.72-7.72 1.47 1.35L5.41 20z\"/>\n",
              "  </svg>\n",
              "      </button>\n",
              "      \n",
              "  <style>\n",
              "    .colab-df-container {\n",
              "      display:flex;\n",
              "      flex-wrap:wrap;\n",
              "      gap: 12px;\n",
              "    }\n",
              "\n",
              "    .colab-df-convert {\n",
              "      background-color: #E8F0FE;\n",
              "      border: none;\n",
              "      border-radius: 50%;\n",
              "      cursor: pointer;\n",
              "      display: none;\n",
              "      fill: #1967D2;\n",
              "      height: 32px;\n",
              "      padding: 0 0 0 0;\n",
              "      width: 32px;\n",
              "    }\n",
              "\n",
              "    .colab-df-convert:hover {\n",
              "      background-color: #E2EBFA;\n",
              "      box-shadow: 0px 1px 2px rgba(60, 64, 67, 0.3), 0px 1px 3px 1px rgba(60, 64, 67, 0.15);\n",
              "      fill: #174EA6;\n",
              "    }\n",
              "\n",
              "    [theme=dark] .colab-df-convert {\n",
              "      background-color: #3B4455;\n",
              "      fill: #D2E3FC;\n",
              "    }\n",
              "\n",
              "    [theme=dark] .colab-df-convert:hover {\n",
              "      background-color: #434B5C;\n",
              "      box-shadow: 0px 1px 3px 1px rgba(0, 0, 0, 0.15);\n",
              "      filter: drop-shadow(0px 1px 2px rgba(0, 0, 0, 0.3));\n",
              "      fill: #FFFFFF;\n",
              "    }\n",
              "  </style>\n",
              "\n",
              "      <script>\n",
              "        const buttonEl =\n",
              "          document.querySelector('#df-7ed4460b-f3f5-46f0-8c0a-5960327173b6 button.colab-df-convert');\n",
              "        buttonEl.style.display =\n",
              "          google.colab.kernel.accessAllowed ? 'block' : 'none';\n",
              "\n",
              "        async function convertToInteractive(key) {\n",
              "          const element = document.querySelector('#df-7ed4460b-f3f5-46f0-8c0a-5960327173b6');\n",
              "          const dataTable =\n",
              "            await google.colab.kernel.invokeFunction('convertToInteractive',\n",
              "                                                     [key], {});\n",
              "          if (!dataTable) return;\n",
              "\n",
              "          const docLinkHtml = 'Like what you see? Visit the ' +\n",
              "            '<a target=\"_blank\" href=https://colab.research.google.com/notebooks/data_table.ipynb>data table notebook</a>'\n",
              "            + ' to learn more about interactive tables.';\n",
              "          element.innerHTML = '';\n",
              "          dataTable['output_type'] = 'display_data';\n",
              "          await google.colab.output.renderOutput(dataTable, element);\n",
              "          const docLink = document.createElement('div');\n",
              "          docLink.innerHTML = docLinkHtml;\n",
              "          element.appendChild(docLink);\n",
              "        }\n",
              "      </script>\n",
              "    </div>\n",
              "  </div>\n",
              "  "
            ],
            "text/plain": [
              "Empty DataFrame\n",
              "Columns: [Open, High, Low, Close, Volume]\n",
              "Index: []"
            ]
          },
          "metadata": {},
          "execution_count": 21
        }
      ],
      "source": [
        "train"
      ]
    },
    {
      "cell_type": "code",
      "execution_count": null,
      "id": "bde5effd",
      "metadata": {
        "id": "bde5effd"
      },
      "outputs": [],
      "source": [
        "train.columns\n",
        "train_feature=train[['Open', 'High', 'Low', 'Volume']]"
      ]
    },
    {
      "cell_type": "code",
      "execution_count": null,
      "id": "5ee96e48",
      "metadata": {
        "id": "5ee96e48"
      },
      "outputs": [],
      "source": [
        "train_label=train[['Close']]"
      ]
    },
    {
      "cell_type": "code",
      "execution_count": null,
      "id": "c2126345",
      "metadata": {
        "id": "c2126345"
      },
      "outputs": [],
      "source": [
        "# 30일동안의 데이터로 설계\n",
        "# 훈련 데이터를 위도우 크기에 따라 재구성"
      ]
    },
    {
      "cell_type": "code",
      "execution_count": null,
      "id": "cf302788",
      "metadata": {
        "colab": {
          "base_uri": "https://localhost:8080/",
          "height": 49
        },
        "id": "cf302788",
        "outputId": "3c0174d3-ff86-439a-f196-9b32a7efe076"
      },
      "outputs": [
        {
          "output_type": "execute_result",
          "data": {
            "text/html": [
              "\n",
              "  <div id=\"df-ead9a33f-7809-4c70-b1b0-340262a28b4f\">\n",
              "    <div class=\"colab-df-container\">\n",
              "      <div>\n",
              "<style scoped>\n",
              "    .dataframe tbody tr th:only-of-type {\n",
              "        vertical-align: middle;\n",
              "    }\n",
              "\n",
              "    .dataframe tbody tr th {\n",
              "        vertical-align: top;\n",
              "    }\n",
              "\n",
              "    .dataframe thead th {\n",
              "        text-align: right;\n",
              "    }\n",
              "</style>\n",
              "<table border=\"1\" class=\"dataframe\">\n",
              "  <thead>\n",
              "    <tr style=\"text-align: right;\">\n",
              "      <th></th>\n",
              "      <th>Open</th>\n",
              "      <th>High</th>\n",
              "      <th>Low</th>\n",
              "      <th>Volume</th>\n",
              "    </tr>\n",
              "  </thead>\n",
              "  <tbody>\n",
              "  </tbody>\n",
              "</table>\n",
              "</div>\n",
              "      <button class=\"colab-df-convert\" onclick=\"convertToInteractive('df-ead9a33f-7809-4c70-b1b0-340262a28b4f')\"\n",
              "              title=\"Convert this dataframe to an interactive table.\"\n",
              "              style=\"display:none;\">\n",
              "        \n",
              "  <svg xmlns=\"http://www.w3.org/2000/svg\" height=\"24px\"viewBox=\"0 0 24 24\"\n",
              "       width=\"24px\">\n",
              "    <path d=\"M0 0h24v24H0V0z\" fill=\"none\"/>\n",
              "    <path d=\"M18.56 5.44l.94 2.06.94-2.06 2.06-.94-2.06-.94-.94-2.06-.94 2.06-2.06.94zm-11 1L8.5 8.5l.94-2.06 2.06-.94-2.06-.94L8.5 2.5l-.94 2.06-2.06.94zm10 10l.94 2.06.94-2.06 2.06-.94-2.06-.94-.94-2.06-.94 2.06-2.06.94z\"/><path d=\"M17.41 7.96l-1.37-1.37c-.4-.4-.92-.59-1.43-.59-.52 0-1.04.2-1.43.59L10.3 9.45l-7.72 7.72c-.78.78-.78 2.05 0 2.83L4 21.41c.39.39.9.59 1.41.59.51 0 1.02-.2 1.41-.59l7.78-7.78 2.81-2.81c.8-.78.8-2.07 0-2.86zM5.41 20L4 18.59l7.72-7.72 1.47 1.35L5.41 20z\"/>\n",
              "  </svg>\n",
              "      </button>\n",
              "      \n",
              "  <style>\n",
              "    .colab-df-container {\n",
              "      display:flex;\n",
              "      flex-wrap:wrap;\n",
              "      gap: 12px;\n",
              "    }\n",
              "\n",
              "    .colab-df-convert {\n",
              "      background-color: #E8F0FE;\n",
              "      border: none;\n",
              "      border-radius: 50%;\n",
              "      cursor: pointer;\n",
              "      display: none;\n",
              "      fill: #1967D2;\n",
              "      height: 32px;\n",
              "      padding: 0 0 0 0;\n",
              "      width: 32px;\n",
              "    }\n",
              "\n",
              "    .colab-df-convert:hover {\n",
              "      background-color: #E2EBFA;\n",
              "      box-shadow: 0px 1px 2px rgba(60, 64, 67, 0.3), 0px 1px 3px 1px rgba(60, 64, 67, 0.15);\n",
              "      fill: #174EA6;\n",
              "    }\n",
              "\n",
              "    [theme=dark] .colab-df-convert {\n",
              "      background-color: #3B4455;\n",
              "      fill: #D2E3FC;\n",
              "    }\n",
              "\n",
              "    [theme=dark] .colab-df-convert:hover {\n",
              "      background-color: #434B5C;\n",
              "      box-shadow: 0px 1px 3px 1px rgba(0, 0, 0, 0.15);\n",
              "      filter: drop-shadow(0px 1px 2px rgba(0, 0, 0, 0.3));\n",
              "      fill: #FFFFFF;\n",
              "    }\n",
              "  </style>\n",
              "\n",
              "      <script>\n",
              "        const buttonEl =\n",
              "          document.querySelector('#df-ead9a33f-7809-4c70-b1b0-340262a28b4f button.colab-df-convert');\n",
              "        buttonEl.style.display =\n",
              "          google.colab.kernel.accessAllowed ? 'block' : 'none';\n",
              "\n",
              "        async function convertToInteractive(key) {\n",
              "          const element = document.querySelector('#df-ead9a33f-7809-4c70-b1b0-340262a28b4f');\n",
              "          const dataTable =\n",
              "            await google.colab.kernel.invokeFunction('convertToInteractive',\n",
              "                                                     [key], {});\n",
              "          if (!dataTable) return;\n",
              "\n",
              "          const docLinkHtml = 'Like what you see? Visit the ' +\n",
              "            '<a target=\"_blank\" href=https://colab.research.google.com/notebooks/data_table.ipynb>data table notebook</a>'\n",
              "            + ' to learn more about interactive tables.';\n",
              "          element.innerHTML = '';\n",
              "          dataTable['output_type'] = 'display_data';\n",
              "          await google.colab.output.renderOutput(dataTable, element);\n",
              "          const docLink = document.createElement('div');\n",
              "          docLink.innerHTML = docLinkHtml;\n",
              "          element.appendChild(docLink);\n",
              "        }\n",
              "      </script>\n",
              "    </div>\n",
              "  </div>\n",
              "  "
            ],
            "text/plain": [
              "Empty DataFrame\n",
              "Columns: [Open, High, Low, Volume]\n",
              "Index: []"
            ]
          },
          "metadata": {},
          "execution_count": 24
        }
      ],
      "source": [
        "len(train_feature)\n",
        "train_feature.iloc[0:0+30]\n",
        "train_feature.iloc[1:1+30]\n",
        "# train_feature.iloc[2:2+30]\n",
        "# train_feature.iloc[3:3+30]\n",
        "# train_feature.iloc[5838:5838+30]"
      ]
    },
    {
      "cell_type": "code",
      "execution_count": null,
      "id": "097cb4a8",
      "metadata": {
        "id": "097cb4a8"
      },
      "outputs": [],
      "source": [
        "#train_feature.iloc[i:i+window_size]"
      ]
    },
    {
      "cell_type": "code",
      "execution_count": null,
      "id": "f5282874",
      "metadata": {
        "id": "f5282874"
      },
      "outputs": [],
      "source": [
        "feature_list=[]\n",
        "label_list=[]"
      ]
    },
    {
      "cell_type": "code",
      "execution_count": null,
      "id": "a3b3e4e1",
      "metadata": {
        "id": "a3b3e4e1"
      },
      "outputs": [],
      "source": [
        "for i in range(len(train_feature) -window_size): #0~5670-1까지 반복\n",
        "    feature_list.append(np.array(train_feature.iloc[i:i+window_size]))\n",
        "    label_list.append(np.array(train_label.iloc[i+window_size]))"
      ]
    },
    {
      "cell_type": "code",
      "execution_count": null,
      "id": "0142cf56",
      "metadata": {
        "id": "0142cf56"
      },
      "outputs": [],
      "source": [
        "feature_list=np.array(feature_list)\n",
        "label_list=np.array(label_list)"
      ]
    },
    {
      "cell_type": "code",
      "execution_count": null,
      "id": "b14a9535",
      "metadata": {
        "colab": {
          "base_uri": "https://localhost:8080/"
        },
        "id": "b14a9535",
        "outputId": "0b5ba717-b5fa-4d2b-b301-788c27c20618"
      },
      "outputs": [
        {
          "output_type": "execute_result",
          "data": {
            "text/plain": [
              "array([], dtype=float64)"
            ]
          },
          "metadata": {},
          "execution_count": 27
        }
      ],
      "source": [
        "feature_list"
      ]
    },
    {
      "cell_type": "code",
      "execution_count": null,
      "id": "52f1cb05",
      "metadata": {
        "colab": {
          "base_uri": "https://localhost:8080/"
        },
        "id": "52f1cb05",
        "outputId": "4b8f64b1-c24c-4701-9e45-2d1c4826ac40"
      },
      "outputs": [
        {
          "output_type": "execute_result",
          "data": {
            "text/plain": [
              "array([], dtype=float64)"
            ]
          },
          "metadata": {},
          "execution_count": 33
        }
      ],
      "source": [
        "label_list"
      ]
    },
    {
      "cell_type": "code",
      "execution_count": null,
      "id": "37a97843",
      "metadata": {
        "colab": {
          "base_uri": "https://localhost:8080/"
        },
        "id": "37a97843",
        "outputId": "5ca895bb-1642-4b2e-84a6-70969489d353"
      },
      "outputs": [
        {
          "output_type": "execute_result",
          "data": {
            "text/plain": [
              "0"
            ]
          },
          "metadata": {},
          "execution_count": 34
        }
      ],
      "source": [
        "len(feature_list)"
      ]
    },
    {
      "cell_type": "code",
      "execution_count": null,
      "id": "6dac05a4",
      "metadata": {
        "id": "6dac05a4"
      },
      "outputs": [],
      "source": [
        "from sklearn.model_selection import train_test_split"
      ]
    },
    {
      "cell_type": "code",
      "execution_count": null,
      "id": "50ab5986",
      "metadata": {
        "id": "50ab5986"
      },
      "outputs": [],
      "source": [
        "#train. valid set 생성\n",
        "xtrain, xvalid, ytrain, yvalid=train_test_split(feature_list, label_list, test_size=0.2)"
      ]
    },
    {
      "cell_type": "code",
      "execution_count": null,
      "id": "f4c1c8b8",
      "metadata": {
        "id": "f4c1c8b8",
        "outputId": "56f7676c-29b5-4210-bd26-6fba96ba1731"
      },
      "outputs": [
        {
          "data": {
            "text/plain": [
              "array([[[0.09891965, 0.09960096, 0.10005384, 0.02216089],\n",
              "        [0.0999548 , 0.09997481, 0.10060851, 0.02216089],\n",
              "        [0.10084016, 0.1011653 , 0.10165291, 0.02880107],\n",
              "        ...,\n",
              "        [0.10074921, 0.10083918, 0.10109283, 0.01686799],\n",
              "        [0.09965789, 0.09910779, 0.10037041, 0.01677175],\n",
              "        [0.09997352, 0.10050245, 0.09983468, 0.0283199 ]],\n",
              "\n",
              "       [[0.10058338, 0.09977861, 0.09953435, 0.02533663],\n",
              "        [0.09875381, 0.09860667, 0.09874429, 0.01937009],\n",
              "        [0.09827502, 0.09917673, 0.0990852 , 0.02235336],\n",
              "        ...,\n",
              "        [0.10196892, 0.10131378, 0.10094672, 0.03226551],\n",
              "        [0.1008776 , 0.10353568, 0.1016502 , 0.04362119],\n",
              "        [0.10429066, 0.10424096, 0.10430178, 0.03996428]],\n",
              "\n",
              "       [[0.01098542, 0.0113163 , 0.01107711, 0.07480118],\n",
              "        [0.01129838, 0.01126062, 0.0112151 , 0.04467977],\n",
              "        [0.01092123, 0.01090798, 0.0109283 , 0.05911495],\n",
              "        ...,\n",
              "        [0.01267055, 0.01313783, 0.01272758, 0.0684497 ],\n",
              "        [0.01326436, 0.01338707, 0.01336071, 0.060366  ],\n",
              "        [0.01326971, 0.01338442, 0.01340942, 0.06912334]],\n",
              "\n",
              "       ...,\n",
              "\n",
              "       [[0.01265183, 0.01283292, 0.0125436 , 0.13090591],\n",
              "        [0.01275615, 0.01299466, 0.01272488, 0.11425734],\n",
              "        [0.0127294 , 0.01266058, 0.01256795, 0.08384723],\n",
              "        ...,\n",
              "        [0.01384747, 0.01380069, 0.0138775 , 0.04487224],\n",
              "        [0.01375117, 0.01379539, 0.01382339, 0.04641199],\n",
              "        [0.01373512, 0.01370259, 0.01356094, 0.05921118]],\n",
              "\n",
              "       [[0.02423106, 0.02419695, 0.02420513, 0.0441986 ],\n",
              "        [0.02408127, 0.02407498, 0.02392915, 0.03630737],\n",
              "        [0.02397428, 0.02422346, 0.02415914, 0.02908978],\n",
              "        ...,\n",
              "        [0.03136209, 0.03130013, 0.0312237 , 0.10386401],\n",
              "        [0.03109729, 0.03113574, 0.03120206, 0.08654179],\n",
              "        [0.03145303, 0.03123384, 0.03123723, 0.06864217]],\n",
              "\n",
              "       [[0.42357948, 0.42173642, 0.42579229, 0.02350817],\n",
              "        [0.42488746, 0.42116371, 0.42585994, 0.01571317],\n",
              "        [0.41984812, 0.42433747, 0.42344916, 0.02764626],\n",
              "        ...,\n",
              "        [0.44699472, 0.45181689, 0.44910726, 0.0389057 ],\n",
              "        [0.45888691, 0.4565656 , 0.45807663, 0.03900193],\n",
              "        [0.44971232, 0.45404144, 0.45367717, 0.02601027]]])"
            ]
          },
          "execution_count": 41,
          "metadata": {},
          "output_type": "execute_result"
        }
      ],
      "source": [
        "xtrain"
      ]
    },
    {
      "cell_type": "code",
      "execution_count": null,
      "id": "aa72a163",
      "metadata": {
        "id": "aa72a163",
        "outputId": "e8fbd684-c518-4208-98fb-bad46dafe155"
      },
      "outputs": [
        {
          "data": {
            "text/plain": [
              "(1168, 30, 4)"
            ]
          },
          "execution_count": 42,
          "metadata": {},
          "output_type": "execute_result"
        }
      ],
      "source": [
        "np.shape(xtrain) #(4670, 30, 4)\n",
        "np.shape(xvalid) #(1168, 30, 4)"
      ]
    },
    {
      "cell_type": "code",
      "execution_count": null,
      "id": "43c47d77",
      "metadata": {
        "id": "43c47d77"
      },
      "outputs": [],
      "source": [
        "#LSTMd 에서는 array 형태여야 한다(list x)"
      ]
    },
    {
      "cell_type": "code",
      "execution_count": null,
      "id": "ef7f8d84",
      "metadata": {
        "id": "ef7f8d84",
        "outputId": "6cfc8991-803d-41a5-c1ce-c4b7ebcbc53c"
      },
      "outputs": [
        {
          "data": {
            "text/html": [
              "<div>\n",
              "<style scoped>\n",
              "    .dataframe tbody tr th:only-of-type {\n",
              "        vertical-align: middle;\n",
              "    }\n",
              "\n",
              "    .dataframe tbody tr th {\n",
              "        vertical-align: top;\n",
              "    }\n",
              "\n",
              "    .dataframe thead th {\n",
              "        text-align: right;\n",
              "    }\n",
              "</style>\n",
              "<table border=\"1\" class=\"dataframe\">\n",
              "  <thead>\n",
              "    <tr style=\"text-align: right;\">\n",
              "      <th></th>\n",
              "      <th>Open</th>\n",
              "      <th>High</th>\n",
              "      <th>Low</th>\n",
              "      <th>Close</th>\n",
              "      <th>Volume</th>\n",
              "    </tr>\n",
              "  </thead>\n",
              "  <tbody>\n",
              "    <tr>\n",
              "      <th>5868</th>\n",
              "      <td>0.840582</td>\n",
              "      <td>0.861553</td>\n",
              "      <td>0.846528</td>\n",
              "      <td>0.844084</td>\n",
              "      <td>0.053918</td>\n",
              "    </tr>\n",
              "    <tr>\n",
              "      <th>5869</th>\n",
              "      <td>0.856360</td>\n",
              "      <td>0.875431</td>\n",
              "      <td>0.861409</td>\n",
              "      <td>0.875925</td>\n",
              "      <td>0.045257</td>\n",
              "    </tr>\n",
              "    <tr>\n",
              "      <th>5870</th>\n",
              "      <td>0.884240</td>\n",
              "      <td>0.887815</td>\n",
              "      <td>0.857499</td>\n",
              "      <td>0.850858</td>\n",
              "      <td>0.046604</td>\n",
              "    </tr>\n",
              "    <tr>\n",
              "      <th>5871</th>\n",
              "      <td>0.857885</td>\n",
              "      <td>0.852671</td>\n",
              "      <td>0.834076</td>\n",
              "      <td>0.835070</td>\n",
              "      <td>0.044295</td>\n",
              "    </tr>\n",
              "    <tr>\n",
              "      <th>5872</th>\n",
              "      <td>0.848322</td>\n",
              "      <td>0.844730</td>\n",
              "      <td>0.837328</td>\n",
              "      <td>0.831518</td>\n",
              "      <td>0.038906</td>\n",
              "    </tr>\n",
              "    <tr>\n",
              "      <th>...</th>\n",
              "      <td>...</td>\n",
              "      <td>...</td>\n",
              "      <td>...</td>\n",
              "      <td>...</td>\n",
              "      <td>...</td>\n",
              "    </tr>\n",
              "    <tr>\n",
              "      <th>6163</th>\n",
              "      <td>0.942021</td>\n",
              "      <td>0.948562</td>\n",
              "      <td>0.943354</td>\n",
              "      <td>0.935006</td>\n",
              "      <td>0.024759</td>\n",
              "    </tr>\n",
              "    <tr>\n",
              "      <th>6164</th>\n",
              "      <td>0.939884</td>\n",
              "      <td>0.952478</td>\n",
              "      <td>0.947025</td>\n",
              "      <td>0.958397</td>\n",
              "      <td>0.036500</td>\n",
              "    </tr>\n",
              "    <tr>\n",
              "      <th>6165</th>\n",
              "      <td>0.952889</td>\n",
              "      <td>0.955575</td>\n",
              "      <td>0.936652</td>\n",
              "      <td>0.933148</td>\n",
              "      <td>0.033517</td>\n",
              "    </tr>\n",
              "    <tr>\n",
              "      <th>6166</th>\n",
              "      <td>0.939282</td>\n",
              "      <td>0.939081</td>\n",
              "      <td>0.937837</td>\n",
              "      <td>0.930587</td>\n",
              "      <td>0.016676</td>\n",
              "    </tr>\n",
              "    <tr>\n",
              "      <th>6167</th>\n",
              "      <td>0.932212</td>\n",
              "      <td>0.938307</td>\n",
              "      <td>0.932352</td>\n",
              "      <td>0.944703</td>\n",
              "      <td>0.020621</td>\n",
              "    </tr>\n",
              "  </tbody>\n",
              "</table>\n",
              "<p>300 rows × 5 columns</p>\n",
              "</div>"
            ],
            "text/plain": [
              "          Open      High       Low     Close    Volume\n",
              "5868  0.840582  0.861553  0.846528  0.844084  0.053918\n",
              "5869  0.856360  0.875431  0.861409  0.875925  0.045257\n",
              "5870  0.884240  0.887815  0.857499  0.850858  0.046604\n",
              "5871  0.857885  0.852671  0.834076  0.835070  0.044295\n",
              "5872  0.848322  0.844730  0.837328  0.831518  0.038906\n",
              "...        ...       ...       ...       ...       ...\n",
              "6163  0.942021  0.948562  0.943354  0.935006  0.024759\n",
              "6164  0.939884  0.952478  0.947025  0.958397  0.036500\n",
              "6165  0.952889  0.955575  0.936652  0.933148  0.033517\n",
              "6166  0.939282  0.939081  0.937837  0.930587  0.016676\n",
              "6167  0.932212  0.938307  0.932352  0.944703  0.020621\n",
              "\n",
              "[300 rows x 5 columns]"
            ]
          },
          "execution_count": 44,
          "metadata": {},
          "output_type": "execute_result"
        }
      ],
      "source": [
        "test"
      ]
    },
    {
      "cell_type": "code",
      "execution_count": null,
      "id": "983524a4",
      "metadata": {
        "id": "983524a4",
        "outputId": "2d08e1f4-4bce-4f1a-9679-395499cdec91"
      },
      "outputs": [
        {
          "data": {
            "text/plain": [
              "array([[[0.14780706, 0.14937095, 0.14913783, 0.03524879],\n",
              "        [0.14841959, 0.15319961, 0.15008212, 0.04381366],\n",
              "        [0.15522965, 0.15472419, 0.1548712 , 0.03938687],\n",
              "        ...,\n",
              "        [0.15977949, 0.15859527, 0.15903255, 0.02601027],\n",
              "        [0.15859188, 0.15813392, 0.15901091, 0.0202362 ],\n",
              "        [0.15907869, 0.1597619 , 0.16060997, 0.02129478]],\n",
              "\n",
              "       [[0.00997435, 0.00995612, 0.00986766, 0.04390989],\n",
              "        [0.00965337, 0.00959818, 0.00958086, 0.08298111],\n",
              "        [0.00943671, 0.0095531 , 0.00954839, 0.05401452],\n",
              "        ...,\n",
              "        [0.01055211, 0.01053943, 0.01057656, 0.03419021],\n",
              "        [0.01037289, 0.01036444, 0.01013823, 0.08067149],\n",
              "        [0.01003052, 0.0101099 , 0.00994884, 0.06941205]],\n",
              "\n",
              "       [[0.07770844, 0.078074  , 0.07716368, 0.04862539],\n",
              "        [0.07826213, 0.07809786, 0.07724755, 0.03784712],\n",
              "        [0.07619718, 0.07671647, 0.07682546, 0.02880107],\n",
              "        ...,\n",
              "        [0.10090435, 0.10049714, 0.10142292, 0.01378848],\n",
              "        [0.10053523, 0.10245125, 0.10152574, 0.0258178 ],\n",
              "        [0.1023541 , 0.10285426, 0.10334938, 0.02119854]],\n",
              "\n",
              "       ...,\n",
              "\n",
              "       [[0.11298645, 0.112471  , 0.11220241, 0.02966718],\n",
              "        [0.11324858, 0.11356604, 0.11393946, 0.01715669],\n",
              "        [0.11272699, 0.11296682, 0.11356067, 0.02283453],\n",
              "        ...,\n",
              "        [0.1136926 , 0.11421034, 0.11481611, 0.01619435],\n",
              "        [0.11525201, 0.11598414, 0.11638812, 0.02341194],\n",
              "        [0.11497383, 0.11425276, 0.11551959, 0.01503953]],\n",
              "\n",
              "       [[0.0690073 , 0.0700985 , 0.069144  , 0.0233157 ],\n",
              "        [0.06965193, 0.07040872, 0.07016405, 0.02100607],\n",
              "        [0.07004245, 0.07030266, 0.07027498, 0.02379688],\n",
              "        ...,\n",
              "        [0.06807647, 0.06846787, 0.0688112 , 0.0174454 ],\n",
              "        [0.06886019, 0.06924474, 0.06918188, 0.01609811],\n",
              "        [0.0696439 , 0.07013827, 0.0698096 , 0.01763787]],\n",
              "\n",
              "       [[0.26870826, 0.27166019, 0.27129719, 0.0339015 ],\n",
              "        [0.27379039, 0.27313439, 0.27630272, 0.02379688],\n",
              "        [0.27555308, 0.27403057, 0.27630543, 0.02514416],\n",
              "        ...,\n",
              "        [0.25571405, 0.25388766, 0.2542892 , 0.04535341],\n",
              "        [0.25533423, 0.25352176, 0.25509009, 0.02726132],\n",
              "        [0.25280386, 0.2522968 , 0.25458953, 0.02033243]]])"
            ]
          },
          "execution_count": 45,
          "metadata": {},
          "output_type": "execute_result"
        }
      ],
      "source": [
        "xvalid"
      ]
    },
    {
      "cell_type": "code",
      "execution_count": null,
      "id": "4055937b",
      "metadata": {
        "id": "4055937b",
        "outputId": "b147bad8-4e16-4768-d1da-619a869bcc10"
      },
      "outputs": [
        {
          "data": {
            "text/html": [
              "<div>\n",
              "<style scoped>\n",
              "    .dataframe tbody tr th:only-of-type {\n",
              "        vertical-align: middle;\n",
              "    }\n",
              "\n",
              "    .dataframe tbody tr th {\n",
              "        vertical-align: top;\n",
              "    }\n",
              "\n",
              "    .dataframe thead th {\n",
              "        text-align: right;\n",
              "    }\n",
              "</style>\n",
              "<table border=\"1\" class=\"dataframe\">\n",
              "  <thead>\n",
              "    <tr style=\"text-align: right;\">\n",
              "      <th></th>\n",
              "      <th>Open</th>\n",
              "      <th>High</th>\n",
              "      <th>Low</th>\n",
              "      <th>Close</th>\n",
              "      <th>Volume</th>\n",
              "    </tr>\n",
              "  </thead>\n",
              "  <tbody>\n",
              "    <tr>\n",
              "      <th>5868</th>\n",
              "      <td>0.840582</td>\n",
              "      <td>0.861553</td>\n",
              "      <td>0.846528</td>\n",
              "      <td>0.844084</td>\n",
              "      <td>0.053918</td>\n",
              "    </tr>\n",
              "    <tr>\n",
              "      <th>5869</th>\n",
              "      <td>0.856360</td>\n",
              "      <td>0.875431</td>\n",
              "      <td>0.861409</td>\n",
              "      <td>0.875925</td>\n",
              "      <td>0.045257</td>\n",
              "    </tr>\n",
              "    <tr>\n",
              "      <th>5870</th>\n",
              "      <td>0.884240</td>\n",
              "      <td>0.887815</td>\n",
              "      <td>0.857499</td>\n",
              "      <td>0.850858</td>\n",
              "      <td>0.046604</td>\n",
              "    </tr>\n",
              "    <tr>\n",
              "      <th>5871</th>\n",
              "      <td>0.857885</td>\n",
              "      <td>0.852671</td>\n",
              "      <td>0.834076</td>\n",
              "      <td>0.835070</td>\n",
              "      <td>0.044295</td>\n",
              "    </tr>\n",
              "    <tr>\n",
              "      <th>5872</th>\n",
              "      <td>0.848322</td>\n",
              "      <td>0.844730</td>\n",
              "      <td>0.837328</td>\n",
              "      <td>0.831518</td>\n",
              "      <td>0.038906</td>\n",
              "    </tr>\n",
              "    <tr>\n",
              "      <th>...</th>\n",
              "      <td>...</td>\n",
              "      <td>...</td>\n",
              "      <td>...</td>\n",
              "      <td>...</td>\n",
              "      <td>...</td>\n",
              "    </tr>\n",
              "    <tr>\n",
              "      <th>6163</th>\n",
              "      <td>0.942021</td>\n",
              "      <td>0.948562</td>\n",
              "      <td>0.943354</td>\n",
              "      <td>0.935006</td>\n",
              "      <td>0.024759</td>\n",
              "    </tr>\n",
              "    <tr>\n",
              "      <th>6164</th>\n",
              "      <td>0.939884</td>\n",
              "      <td>0.952478</td>\n",
              "      <td>0.947025</td>\n",
              "      <td>0.958397</td>\n",
              "      <td>0.036500</td>\n",
              "    </tr>\n",
              "    <tr>\n",
              "      <th>6165</th>\n",
              "      <td>0.952889</td>\n",
              "      <td>0.955575</td>\n",
              "      <td>0.936652</td>\n",
              "      <td>0.933148</td>\n",
              "      <td>0.033517</td>\n",
              "    </tr>\n",
              "    <tr>\n",
              "      <th>6166</th>\n",
              "      <td>0.939282</td>\n",
              "      <td>0.939081</td>\n",
              "      <td>0.937837</td>\n",
              "      <td>0.930587</td>\n",
              "      <td>0.016676</td>\n",
              "    </tr>\n",
              "    <tr>\n",
              "      <th>6167</th>\n",
              "      <td>0.932212</td>\n",
              "      <td>0.938307</td>\n",
              "      <td>0.932352</td>\n",
              "      <td>0.944703</td>\n",
              "      <td>0.020621</td>\n",
              "    </tr>\n",
              "  </tbody>\n",
              "</table>\n",
              "<p>300 rows × 5 columns</p>\n",
              "</div>"
            ],
            "text/plain": [
              "          Open      High       Low     Close    Volume\n",
              "5868  0.840582  0.861553  0.846528  0.844084  0.053918\n",
              "5869  0.856360  0.875431  0.861409  0.875925  0.045257\n",
              "5870  0.884240  0.887815  0.857499  0.850858  0.046604\n",
              "5871  0.857885  0.852671  0.834076  0.835070  0.044295\n",
              "5872  0.848322  0.844730  0.837328  0.831518  0.038906\n",
              "...        ...       ...       ...       ...       ...\n",
              "6163  0.942021  0.948562  0.943354  0.935006  0.024759\n",
              "6164  0.939884  0.952478  0.947025  0.958397  0.036500\n",
              "6165  0.952889  0.955575  0.936652  0.933148  0.033517\n",
              "6166  0.939282  0.939081  0.937837  0.930587  0.016676\n",
              "6167  0.932212  0.938307  0.932352  0.944703  0.020621\n",
              "\n",
              "[300 rows x 5 columns]"
            ]
          },
          "execution_count": 46,
          "metadata": {},
          "output_type": "execute_result"
        }
      ],
      "source": [
        "test"
      ]
    },
    {
      "cell_type": "code",
      "execution_count": null,
      "id": "959ba0af",
      "metadata": {
        "id": "959ba0af"
      },
      "outputs": [],
      "source": [
        "from keras.models import Sequential\n",
        "from keras.layers import Dense, LSTM\n",
        "from keras.callbacks import EarlyStopping, ModelCheckpoint"
      ]
    },
    {
      "cell_type": "code",
      "execution_count": null,
      "id": "2f5de42d",
      "metadata": {
        "id": "2f5de42d"
      },
      "outputs": [],
      "source": [
        "# test data 도 x, y값 나눠주기\n",
        "test_feature=test[['Open', 'High', 'Low', 'Volume']]\n",
        "test_label=test[['Close']]"
      ]
    },
    {
      "cell_type": "code",
      "execution_count": null,
      "id": "03272fea",
      "metadata": {
        "id": "03272fea"
      },
      "outputs": [],
      "source": [
        "feature_test=[]\n",
        "label_test=[]\n",
        "for i in range(len(test_feature)-window_size): #0~5670-1까지 반복\n",
        "    feature_test.append(np.array(test_feature.iloc[i:i+window_size]))\n",
        "    label_test.append(np.array(test_label.iloc[i+window_size]))"
      ]
    },
    {
      "cell_type": "code",
      "execution_count": null,
      "id": "226b4df7",
      "metadata": {
        "id": "226b4df7"
      },
      "outputs": [],
      "source": [
        ""
      ]
    },
    {
      "cell_type": "code",
      "execution_count": null,
      "id": "1a4d1ecc",
      "metadata": {
        "id": "1a4d1ecc",
        "outputId": "4af0d998-e830-4b01-8e85-21616b49a8c2"
      },
      "outputs": [
        {
          "data": {
            "text/plain": [
              "(1168, 1)"
            ]
          },
          "execution_count": 50,
          "metadata": {},
          "output_type": "execute_result"
        }
      ],
      "source": [
        "np.shape(feature_test) #(270, 30, 4)\n",
        "# 4종류 30줄로 구성된 데이터가 270개 있다.\n",
        "np.shape(label_test) #(270, 30, 1)\n",
        "# 여러 개의 x값을 넣었을 때 하나의 y 값이 output되는 모델을 만드는 것이므로\n",
        "# label_test (y)의 값의 shape는\n",
        "# (270, 1) 이 되어야 한다.\n",
        "np.shape(yvalid)"
      ]
    },
    {
      "cell_type": "code",
      "execution_count": null,
      "id": "cd0d351a",
      "metadata": {
        "id": "cd0d351a",
        "outputId": "e40dc8f0-2ec2-475b-acb5-89b7c8775b1d"
      },
      "outputs": [
        {
          "data": {
            "text/plain": [
              "[array([0.86209152]),\n",
              " array([0.85349369]),\n",
              " array([0.85120415]),\n",
              " array([0.85871083]),\n",
              " array([0.85941861]),\n",
              " array([0.88067592]),\n",
              " array([0.84755269]),\n",
              " array([0.86048295]),\n",
              " array([0.81360372]),\n",
              " array([0.80511312]),\n",
              " array([0.81689057]),\n",
              " array([0.86856604]),\n",
              " array([0.8902389]),\n",
              " array([0.88738904]),\n",
              " array([0.84244814]),\n",
              " array([0.81330077]),\n",
              " array([0.84074574]),\n",
              " array([0.83347766]),\n",
              " array([0.83844547]),\n",
              " array([0.83904869]),\n",
              " array([0.84028193]),\n",
              " array([0.83218544]),\n",
              " array([0.83528462]),\n",
              " array([0.83056078]),\n",
              " array([0.83029]),\n",
              " array([0.83556344]),\n",
              " array([0.85352854]),\n",
              " array([0.85628189]),\n",
              " array([0.84896287]),\n",
              " array([0.86291458]),\n",
              " array([0.85847759]),\n",
              " array([0.85397358]),\n",
              " array([0.84749907]),\n",
              " array([0.84627119]),\n",
              " array([0.85144276]),\n",
              " array([0.83184764]),\n",
              " array([0.8311211]),\n",
              " array([0.83512377]),\n",
              " array([0.84599505]),\n",
              " array([0.84818003]),\n",
              " array([0.86851242]),\n",
              " array([0.86720411]),\n",
              " array([0.85797357]),\n",
              " array([0.85918805]),\n",
              " array([0.8592792]),\n",
              " array([0.85358216]),\n",
              " array([0.85020952]),\n",
              " array([0.88004054]),\n",
              " array([0.8902389]),\n",
              " array([0.88054724]),\n",
              " array([0.87279391]),\n",
              " array([0.85394677]),\n",
              " array([0.86249367]),\n",
              " array([0.84101115]),\n",
              " array([0.84738647]),\n",
              " array([0.85289316]),\n",
              " array([0.83453127]),\n",
              " array([0.83630607]),\n",
              " array([0.84838647]),\n",
              " array([0.83808622]),\n",
              " array([0.83186104]),\n",
              " array([0.8362873]),\n",
              " array([0.87452312]),\n",
              " array([0.88621478]),\n",
              " array([0.88225769]),\n",
              " array([0.88273222]),\n",
              " array([0.89134614]),\n",
              " array([0.86626577]),\n",
              " array([0.86761698]),\n",
              " array([0.85919341]),\n",
              " array([0.89583674]),\n",
              " array([0.90578846]),\n",
              " array([0.88770003]),\n",
              " array([0.89265176]),\n",
              " array([0.89832199]),\n",
              " array([0.89049091]),\n",
              " array([0.88568127]),\n",
              " array([0.88074295]),\n",
              " array([0.874188]),\n",
              " array([0.87836494]),\n",
              " array([0.87601642]),\n",
              " array([0.88665714]),\n",
              " array([0.89190914]),\n",
              " array([0.87090919]),\n",
              " array([0.85236769]),\n",
              " array([0.85605669]),\n",
              " array([0.84668138]),\n",
              " array([0.81923641]),\n",
              " array([0.8288262]),\n",
              " array([0.84309157]),\n",
              " array([0.82925515]),\n",
              " array([0.80525253]),\n",
              " array([0.79789867]),\n",
              " array([0.80403538]),\n",
              " array([0.79103005]),\n",
              " array([0.82076187]),\n",
              " array([0.8193651]),\n",
              " array([0.83436506]),\n",
              " array([0.82790395]),\n",
              " array([0.82581012]),\n",
              " array([0.82853933]),\n",
              " array([0.8403007]),\n",
              " array([0.81141606]),\n",
              " array([0.82400851]),\n",
              " array([0.83363583]),\n",
              " array([0.84077523]),\n",
              " array([0.82725515]),\n",
              " array([0.81631417]),\n",
              " array([0.81786108]),\n",
              " array([0.82421495]),\n",
              " array([0.81873507]),\n",
              " array([0.82913451]),\n",
              " array([0.84707548]),\n",
              " array([0.86469741]),\n",
              " array([0.86391725]),\n",
              " array([0.87881534]),\n",
              " array([0.88415313]),\n",
              " array([0.90369731]),\n",
              " array([0.90562492]),\n",
              " array([0.91115037]),\n",
              " array([0.89318795]),\n",
              " array([0.90554449]),\n",
              " array([0.91100024]),\n",
              " array([0.90364637]),\n",
              " array([0.89364104]),\n",
              " array([0.90096809]),\n",
              " array([0.88676438]),\n",
              " array([0.89530055]),\n",
              " array([0.91356323]),\n",
              " array([0.91582328]),\n",
              " array([0.92683398]),\n",
              " array([0.93026828]),\n",
              " array([0.92922539]),\n",
              " array([0.9075284]),\n",
              " array([0.88752309]),\n",
              " array([0.87644269]),\n",
              " array([0.88604856]),\n",
              " array([0.88209147]),\n",
              " array([0.85498162]),\n",
              " array([0.86394138]),\n",
              " array([0.84464653]),\n",
              " array([0.84720148]),\n",
              " array([0.86367061]),\n",
              " array([0.87640248]),\n",
              " array([0.86618535]),\n",
              " array([0.86605666]),\n",
              " array([0.87031402]),\n",
              " array([0.85835695]),\n",
              " array([0.86959284]),\n",
              " array([0.87336227]),\n",
              " array([0.87500034]),\n",
              " array([0.86560358]),\n",
              " array([0.86371618]),\n",
              " array([0.8625312]),\n",
              " array([0.86664379]),\n",
              " array([0.85404865]),\n",
              " array([0.85919877]),\n",
              " array([0.8569977]),\n",
              " array([0.87471883]),\n",
              " array([0.87928719]),\n",
              " array([0.89765175]),\n",
              " array([0.89689572]),\n",
              " array([0.90682599]),\n",
              " array([0.9066276]),\n",
              " array([0.91523883]),\n",
              " array([0.93507524]),\n",
              " array([0.9344479]),\n",
              " array([0.92561682]),\n",
              " array([0.93940767]),\n",
              " array([0.93897872]),\n",
              " array([0.92431388]),\n",
              " array([0.91154179]),\n",
              " array([0.92291978]),\n",
              " array([0.92404578]),\n",
              " array([0.92192782]),\n",
              " array([0.91999753]),\n",
              " array([0.94090364]),\n",
              " array([0.98507511]),\n",
              " array([0.99066222]),\n",
              " array([1.]),\n",
              " array([0.99676408]),\n",
              " array([0.99655229]),\n",
              " array([0.98550942]),\n",
              " array([0.9866676]),\n",
              " array([0.97313412]),\n",
              " array([0.95769985]),\n",
              " array([0.95125482]),\n",
              " array([0.95758188]),\n",
              " array([0.96080171]),\n",
              " array([0.97496521]),\n",
              " array([0.97995448]),\n",
              " array([0.99153085]),\n",
              " array([0.97184458]),\n",
              " array([0.9728982]),\n",
              " array([0.96474808]),\n",
              " array([0.89173756]),\n",
              " array([0.89278045]),\n",
              " array([0.90209946]),\n",
              " array([0.89901099]),\n",
              " array([0.90471339]),\n",
              " array([0.89638902]),\n",
              " array([0.89556596]),\n",
              " array([0.88988501]),\n",
              " array([0.88222552]),\n",
              " array([0.88527913]),\n",
              " array([0.88272418]),\n",
              " array([0.88407002]),\n",
              " array([0.86878051]),\n",
              " array([0.85785829]),\n",
              " array([0.85424704]),\n",
              " array([0.85751781]),\n",
              " array([0.87519068]),\n",
              " array([0.88589039]),\n",
              " array([0.88412095]),\n",
              " array([0.88863033]),\n",
              " array([0.89764639]),\n",
              " array([0.9169332]),\n",
              " array([0.93012887]),\n",
              " array([0.93232994]),\n",
              " array([0.92807258]),\n",
              " array([0.93207525]),\n",
              " array([0.94045056]),\n",
              " array([0.94479639]),\n",
              " array([0.93371331]),\n",
              " array([0.9296892]),\n",
              " array([0.92647741]),\n",
              " array([0.92455516]),\n",
              " array([0.93146935]),\n",
              " array([0.93480715]),\n",
              " array([0.92791172]),\n",
              " array([0.89928177]),\n",
              " array([0.89603781]),\n",
              " array([0.90580186]),\n",
              " array([0.9154399]),\n",
              " array([0.91799218]),\n",
              " array([0.91270533]),\n",
              " array([0.8886196]),\n",
              " array([0.88464106]),\n",
              " array([0.88033008]),\n",
              " array([0.87985287]),\n",
              " array([0.85479127]),\n",
              " array([0.86316122]),\n",
              " array([0.87415583]),\n",
              " array([0.88499227]),\n",
              " array([0.88128986]),\n",
              " array([0.86994405]),\n",
              " array([0.87022019]),\n",
              " array([0.88012633]),\n",
              " array([0.88430326]),\n",
              " array([0.9135686]),\n",
              " array([0.92368117]),\n",
              " array([0.9229868]),\n",
              " array([0.91518789]),\n",
              " array([0.92053641]),\n",
              " array([0.8938716]),\n",
              " array([0.8898019]),\n",
              " array([0.90473484]),\n",
              " array([0.90913697]),\n",
              " array([0.92363559]),\n",
              " array([0.90375897]),\n",
              " array([0.88919601]),\n",
              " array([0.88775901]),\n",
              " array([0.90686084]),\n",
              " array([0.93179375]),\n",
              " array([0.94305109]),\n",
              " array([0.93500554]),\n",
              " array([0.95839689]),\n",
              " array([0.93314763]),\n",
              " array([0.93058732]),\n",
              " array([0.94470256])]"
            ]
          },
          "execution_count": 51,
          "metadata": {},
          "output_type": "execute_result"
        }
      ],
      "source": [
        "label_test"
      ]
    },
    {
      "cell_type": "code",
      "execution_count": null,
      "id": "04792121",
      "metadata": {
        "id": "04792121"
      },
      "outputs": [],
      "source": [
        "feature_test=np.array(feature_test)\n",
        "label_test=np.array(label_test)"
      ]
    },
    {
      "cell_type": "code",
      "execution_count": null,
      "id": "af5f5419",
      "metadata": {
        "id": "af5f5419"
      },
      "outputs": [],
      "source": [
        ""
      ]
    },
    {
      "cell_type": "markdown",
      "id": "a5a7c10b",
      "metadata": {
        "id": "a5a7c10b"
      },
      "source": [
        "# LSTM 설계시 usually 'window_sliding' 사용해서 input 한다."
      ]
    },
    {
      "cell_type": "code",
      "execution_count": null,
      "id": "1c9c6ce9",
      "metadata": {
        "id": "1c9c6ce9",
        "outputId": "7a891e87-b5ee-4b5c-8beb-f6fdb57634e0"
      },
      "outputs": [
        {
          "data": {
            "text/plain": [
              "(4670, 30, 4)"
            ]
          },
          "execution_count": 53,
          "metadata": {},
          "output_type": "execute_result"
        }
      ],
      "source": [
        "np.shape(xtrain)"
      ]
    },
    {
      "cell_type": "code",
      "execution_count": null,
      "id": "77444ef7",
      "metadata": {
        "id": "77444ef7"
      },
      "outputs": [],
      "source": [
        "# activation 시도 종류 : tanh, relu, linear\n",
        "# activation default로 tanh가 설정되어 있음\n",
        "# 실행할때마다 학습한거 위에 다시 학습해서 뭔가 바꾸고 새로 돌리고싶을 땐 시퀀셜 꼭 다시 돌려줘야 한다 그래서 같이 넣어줌\n",
        "model=Sequential()\n",
        "# units : LSTM에서의 output\n",
        "model.add(LSTM(16,\n",
        "              input_shape=(np.shape(xtrain)[1],np.shape(xtrain)[2]),return_sequences=False))"
      ]
    },
    {
      "cell_type": "code",
      "execution_count": null,
      "id": "f388912d",
      "metadata": {
        "id": "f388912d"
      },
      "outputs": [],
      "source": [
        "model.add(Dense(1))"
      ]
    },
    {
      "cell_type": "code",
      "execution_count": null,
      "id": "46e70380",
      "metadata": {
        "id": "46e70380"
      },
      "outputs": [],
      "source": [
        "model.compile(loss='mse', optimizer='adam')"
      ]
    },
    {
      "cell_type": "code",
      "execution_count": null,
      "id": "d2a68999",
      "metadata": {
        "id": "d2a68999"
      },
      "outputs": [],
      "source": [
        "#줄어들지 않고 반복되는걸 몇번 참을거냐 10번 지나도 안줄어들면 중단\n",
        "es=EarlyStopping(monitor='val_loss', patience=30)\n",
        "# val_loss의 값이 가장 좋을 때 베스트를 저장한다.\n",
        "cp=ModelCheckpoint('tmp_cp.h5',\n",
        "                  monitor='val_loss', \n",
        "                   save_best_only=True)"
      ]
    },
    {
      "cell_type": "code",
      "execution_count": null,
      "id": "98cfd606",
      "metadata": {
        "id": "98cfd606",
        "outputId": "4a06b038-b464-4ab4-8dd7-f1ab83f03194"
      },
      "outputs": [
        {
          "name": "stdout",
          "output_type": "stream",
          "text": [
            "Epoch 1/300\n",
            "292/292 [==============================] - 5s 11ms/step - loss: 0.0013 - val_loss: 7.8172e-05\n",
            "Epoch 2/300\n",
            "292/292 [==============================] - 3s 9ms/step - loss: 7.6155e-05 - val_loss: 5.8697e-05\n",
            "Epoch 3/300\n",
            "292/292 [==============================] - 3s 9ms/step - loss: 6.6134e-05 - val_loss: 5.1670e-05\n",
            "Epoch 4/300\n",
            "292/292 [==============================] - 3s 10ms/step - loss: 5.9023e-05 - val_loss: 4.4249e-05\n",
            "Epoch 5/300\n",
            "292/292 [==============================] - 3s 10ms/step - loss: 5.3819e-05 - val_loss: 5.5587e-05\n",
            "Epoch 6/300\n",
            "292/292 [==============================] - 3s 10ms/step - loss: 4.7792e-05 - val_loss: 3.7310e-05\n",
            "Epoch 7/300\n",
            "292/292 [==============================] - 3s 10ms/step - loss: 4.5702e-05 - val_loss: 4.2146e-05\n",
            "Epoch 8/300\n",
            "292/292 [==============================] - 3s 9ms/step - loss: 5.0099e-05 - val_loss: 3.2296e-05\n",
            "Epoch 9/300\n",
            "292/292 [==============================] - 3s 9ms/step - loss: 4.3430e-05 - val_loss: 3.7172e-05\n",
            "Epoch 10/300\n",
            "292/292 [==============================] - 3s 10ms/step - loss: 4.2535e-05 - val_loss: 6.9038e-05\n",
            "Epoch 11/300\n",
            "292/292 [==============================] - 3s 10ms/step - loss: 4.4543e-05 - val_loss: 5.3539e-05\n",
            "Epoch 12/300\n",
            "292/292 [==============================] - 3s 9ms/step - loss: 3.9155e-05 - val_loss: 3.1120e-05\n",
            "Epoch 13/300\n",
            "292/292 [==============================] - 3s 10ms/step - loss: 3.7672e-05 - val_loss: 5.0679e-05\n",
            "Epoch 14/300\n",
            "292/292 [==============================] - 3s 9ms/step - loss: 3.9485e-05 - val_loss: 2.9148e-05\n",
            "Epoch 15/300\n",
            "292/292 [==============================] - 3s 9ms/step - loss: 3.9652e-05 - val_loss: 2.9163e-05\n",
            "Epoch 16/300\n",
            "292/292 [==============================] - 3s 9ms/step - loss: 3.6350e-05 - val_loss: 2.7340e-05\n",
            "Epoch 17/300\n",
            "292/292 [==============================] - 3s 9ms/step - loss: 3.4131e-05 - val_loss: 2.7787e-05\n",
            "Epoch 18/300\n",
            "292/292 [==============================] - 3s 9ms/step - loss: 3.4665e-05 - val_loss: 2.4775e-05\n",
            "Epoch 19/300\n",
            "292/292 [==============================] - 3s 9ms/step - loss: 3.2376e-05 - val_loss: 3.2481e-05\n",
            "Epoch 20/300\n",
            "292/292 [==============================] - 3s 9ms/step - loss: 3.3614e-05 - val_loss: 4.8175e-05\n",
            "Epoch 21/300\n",
            "292/292 [==============================] - 3s 9ms/step - loss: 3.2405e-05 - val_loss: 3.0683e-05\n",
            "Epoch 22/300\n",
            "292/292 [==============================] - 3s 9ms/step - loss: 3.6726e-05 - val_loss: 4.2892e-05\n",
            "Epoch 23/300\n",
            "292/292 [==============================] - 3s 9ms/step - loss: 3.2512e-05 - val_loss: 2.7439e-05\n",
            "Epoch 24/300\n",
            "292/292 [==============================] - 3s 9ms/step - loss: 3.1959e-05 - val_loss: 2.1691e-05\n",
            "Epoch 25/300\n",
            "292/292 [==============================] - 3s 9ms/step - loss: 3.0641e-05 - val_loss: 2.0470e-05\n",
            "Epoch 26/300\n",
            "292/292 [==============================] - 3s 9ms/step - loss: 2.8388e-05 - val_loss: 2.3192e-05\n",
            "Epoch 27/300\n",
            "292/292 [==============================] - 3s 9ms/step - loss: 3.0074e-05 - val_loss: 2.6897e-05\n",
            "Epoch 28/300\n",
            "292/292 [==============================] - 3s 9ms/step - loss: 2.8660e-05 - val_loss: 3.3247e-05\n",
            "Epoch 29/300\n",
            "292/292 [==============================] - 3s 9ms/step - loss: 2.7739e-05 - val_loss: 2.2355e-05\n",
            "Epoch 30/300\n",
            "292/292 [==============================] - 3s 9ms/step - loss: 2.6721e-05 - val_loss: 1.9558e-05\n",
            "Epoch 31/300\n",
            "292/292 [==============================] - 3s 9ms/step - loss: 2.5864e-05 - val_loss: 3.7453e-05\n",
            "Epoch 32/300\n",
            "292/292 [==============================] - 3s 9ms/step - loss: 2.9981e-05 - val_loss: 1.8457e-05\n",
            "Epoch 33/300\n",
            "292/292 [==============================] - 3s 9ms/step - loss: 3.1468e-05 - val_loss: 2.6612e-05\n",
            "Epoch 34/300\n",
            "292/292 [==============================] - 3s 9ms/step - loss: 2.6802e-05 - val_loss: 1.8546e-05\n",
            "Epoch 35/300\n",
            "292/292 [==============================] - 3s 9ms/step - loss: 2.9954e-05 - val_loss: 4.2895e-05\n",
            "Epoch 36/300\n",
            "292/292 [==============================] - 3s 9ms/step - loss: 2.5615e-05 - val_loss: 1.9016e-05\n",
            "Epoch 37/300\n",
            "292/292 [==============================] - 3s 9ms/step - loss: 2.6804e-05 - val_loss: 1.9501e-05\n",
            "Epoch 38/300\n",
            "292/292 [==============================] - 3s 9ms/step - loss: 2.7851e-05 - val_loss: 1.6641e-05\n",
            "Epoch 39/300\n",
            "292/292 [==============================] - 3s 9ms/step - loss: 2.4222e-05 - val_loss: 2.7387e-05\n",
            "Epoch 40/300\n",
            "292/292 [==============================] - 3s 9ms/step - loss: 2.5359e-05 - val_loss: 1.6943e-05\n",
            "Epoch 41/300\n",
            "292/292 [==============================] - 3s 9ms/step - loss: 2.5057e-05 - val_loss: 1.7148e-05\n",
            "Epoch 42/300\n",
            "292/292 [==============================] - 3s 9ms/step - loss: 2.6689e-05 - val_loss: 2.0810e-05\n",
            "Epoch 43/300\n",
            "292/292 [==============================] - 3s 9ms/step - loss: 2.4443e-05 - val_loss: 1.9516e-05\n",
            "Epoch 44/300\n",
            "292/292 [==============================] - 3s 9ms/step - loss: 2.4954e-05 - val_loss: 1.7681e-05\n",
            "Epoch 45/300\n",
            "292/292 [==============================] - 3s 9ms/step - loss: 2.3956e-05 - val_loss: 1.5905e-05\n",
            "Epoch 46/300\n",
            "292/292 [==============================] - 3s 10ms/step - loss: 2.3259e-05 - val_loss: 1.9124e-05\n",
            "Epoch 47/300\n",
            "292/292 [==============================] - 3s 10ms/step - loss: 2.3616e-05 - val_loss: 1.5269e-05\n",
            "Epoch 48/300\n",
            "292/292 [==============================] - 3s 9ms/step - loss: 2.3733e-05 - val_loss: 2.0430e-05\n",
            "Epoch 49/300\n",
            "292/292 [==============================] - 3s 10ms/step - loss: 2.5233e-05 - val_loss: 2.2231e-05\n",
            "Epoch 50/300\n",
            "292/292 [==============================] - 3s 10ms/step - loss: 2.4868e-05 - val_loss: 1.5348e-05\n",
            "Epoch 51/300\n",
            "292/292 [==============================] - 3s 10ms/step - loss: 2.2643e-05 - val_loss: 1.7695e-05\n",
            "Epoch 52/300\n",
            "292/292 [==============================] - 3s 10ms/step - loss: 2.3257e-05 - val_loss: 1.6769e-05\n",
            "Epoch 53/300\n",
            "292/292 [==============================] - 3s 10ms/step - loss: 2.1958e-05 - val_loss: 2.0865e-05\n",
            "Epoch 54/300\n",
            "292/292 [==============================] - 3s 9ms/step - loss: 2.2018e-05 - val_loss: 2.1010e-05\n",
            "Epoch 55/300\n",
            "292/292 [==============================] - 3s 10ms/step - loss: 2.2723e-05 - val_loss: 1.7028e-05\n",
            "Epoch 56/300\n",
            "292/292 [==============================] - 3s 10ms/step - loss: 2.1415e-05 - val_loss: 2.1533e-05\n",
            "Epoch 57/300\n",
            "292/292 [==============================] - 3s 10ms/step - loss: 2.1055e-05 - val_loss: 1.5206e-05\n",
            "Epoch 58/300\n",
            "292/292 [==============================] - 3s 10ms/step - loss: 2.1215e-05 - val_loss: 1.8433e-05\n",
            "Epoch 59/300\n",
            "292/292 [==============================] - 3s 11ms/step - loss: 2.4472e-05 - val_loss: 1.7288e-05\n",
            "Epoch 60/300\n",
            "292/292 [==============================] - 3s 10ms/step - loss: 2.3399e-05 - val_loss: 2.0082e-05\n",
            "Epoch 61/300\n",
            "292/292 [==============================] - 3s 9ms/step - loss: 2.1675e-05 - val_loss: 1.5320e-05\n",
            "Epoch 62/300\n",
            "292/292 [==============================] - 3s 10ms/step - loss: 2.2728e-05 - val_loss: 1.4911e-05\n",
            "Epoch 63/300\n",
            "292/292 [==============================] - 3s 10ms/step - loss: 2.3217e-05 - val_loss: 1.5186e-05\n",
            "Epoch 64/300\n",
            "292/292 [==============================] - 3s 9ms/step - loss: 2.2893e-05 - val_loss: 1.4552e-05\n",
            "Epoch 65/300\n",
            "292/292 [==============================] - 3s 9ms/step - loss: 2.2943e-05 - val_loss: 1.9872e-05\n",
            "Epoch 66/300\n",
            "292/292 [==============================] - 3s 9ms/step - loss: 2.1013e-05 - val_loss: 1.4528e-05\n",
            "Epoch 67/300\n",
            "292/292 [==============================] - 3s 9ms/step - loss: 2.2477e-05 - val_loss: 1.6823e-05\n",
            "Epoch 68/300\n",
            "292/292 [==============================] - 3s 9ms/step - loss: 2.2479e-05 - val_loss: 1.9099e-05\n",
            "Epoch 69/300\n",
            "292/292 [==============================] - 3s 9ms/step - loss: 2.2880e-05 - val_loss: 1.5461e-05\n",
            "Epoch 70/300\n",
            "292/292 [==============================] - 3s 9ms/step - loss: 2.2185e-05 - val_loss: 1.3764e-05\n",
            "Epoch 71/300\n",
            "292/292 [==============================] - 3s 9ms/step - loss: 2.0058e-05 - val_loss: 1.6123e-05\n",
            "Epoch 72/300\n",
            "292/292 [==============================] - 3s 9ms/step - loss: 2.2407e-05 - val_loss: 1.7252e-05\n",
            "Epoch 73/300\n",
            "292/292 [==============================] - 3s 9ms/step - loss: 2.2526e-05 - val_loss: 2.4158e-05\n",
            "Epoch 74/300\n",
            "292/292 [==============================] - 3s 9ms/step - loss: 2.1617e-05 - val_loss: 1.3568e-05\n",
            "Epoch 75/300\n"
          ]
        },
        {
          "name": "stdout",
          "output_type": "stream",
          "text": [
            "292/292 [==============================] - 3s 9ms/step - loss: 2.0689e-05 - val_loss: 1.9499e-05\n",
            "Epoch 76/300\n",
            "292/292 [==============================] - 3s 9ms/step - loss: 2.1567e-05 - val_loss: 1.7046e-05\n",
            "Epoch 77/300\n",
            "292/292 [==============================] - 3s 9ms/step - loss: 2.1268e-05 - val_loss: 1.6337e-05\n",
            "Epoch 78/300\n",
            "292/292 [==============================] - 3s 9ms/step - loss: 2.1172e-05 - val_loss: 1.5915e-05\n",
            "Epoch 79/300\n",
            "292/292 [==============================] - 3s 9ms/step - loss: 2.0814e-05 - val_loss: 1.9973e-05\n",
            "Epoch 80/300\n",
            "292/292 [==============================] - 3s 9ms/step - loss: 2.1424e-05 - val_loss: 1.8873e-05\n",
            "Epoch 81/300\n",
            "292/292 [==============================] - 3s 9ms/step - loss: 2.1240e-05 - val_loss: 1.6544e-05\n",
            "Epoch 82/300\n",
            "292/292 [==============================] - 3s 9ms/step - loss: 2.0117e-05 - val_loss: 1.3689e-05\n",
            "Epoch 83/300\n",
            "292/292 [==============================] - 3s 9ms/step - loss: 2.0680e-05 - val_loss: 2.3221e-05\n",
            "Epoch 84/300\n",
            "292/292 [==============================] - 3s 9ms/step - loss: 2.1699e-05 - val_loss: 1.3794e-05\n"
          ]
        },
        {
          "data": {
            "text/plain": [
              "<keras.callbacks.History at 0x7f87d300e070>"
            ]
          },
          "execution_count": 58,
          "metadata": {},
          "output_type": "execute_result"
        }
      ],
      "source": [
        "model.fit(xtrain, ytrain,\n",
        "         epochs=100,\n",
        "         batch_size=16,\n",
        "         validation_data=(xvalid, yvalid),\n",
        "         callbacks=[es,cp])"
      ]
    },
    {
      "cell_type": "code",
      "execution_count": null,
      "id": "34eef373",
      "metadata": {
        "id": "34eef373",
        "outputId": "141ffc3b-c5fe-4234-d099-cf66734f6cdc"
      },
      "outputs": [
        {
          "data": {
            "text/plain": [
              "(4670, 30, 4)"
            ]
          },
          "execution_count": 59,
          "metadata": {},
          "output_type": "execute_result"
        }
      ],
      "source": [
        "xtrain.shape\n",
        "# window, data가 크면 연산량이 많다."
      ]
    },
    {
      "cell_type": "code",
      "execution_count": null,
      "id": "fc1a61df",
      "metadata": {
        "id": "fc1a61df"
      },
      "outputs": [],
      "source": [
        "pred=model.predict(feature_test)"
      ]
    },
    {
      "cell_type": "code",
      "execution_count": null,
      "id": "63e3b38e",
      "metadata": {
        "id": "63e3b38e",
        "outputId": "6e23a89c-b32b-493b-9318-89df3dd23a47"
      },
      "outputs": [
        {
          "data": {
            "text/plain": [
              "<matplotlib.legend.Legend at 0x7f87d8a45370>"
            ]
          },
          "execution_count": 64,
          "metadata": {},
          "output_type": "execute_result"
        },
        {
          "data": {
            "image/png": "[encoded data removed]",
            "text/plain": [
              "<Figure size 864x720 with 1 Axes>"
            ]
          },
          "metadata": {
            "needs_background": "light"
          },
          "output_type": "display_data"
        }
      ],
      "source": [
        "pred\n",
        "label_test\n",
        "plt.figure(figsize=(12,10))\n",
        "plt.plot(pred, label='prediction')\n",
        "plt.plot(label_test, label='actual')\n",
        "plt.legend()"
      ]
    },
    {
      "cell_type": "code",
      "execution_count": null,
      "id": "243d8024",
      "metadata": {
        "id": "243d8024"
      },
      "outputs": [],
      "source": [
        "# timesteps:30\n",
        "# input : [batch, timesteps, feature]\n",
        "# batch=1이면 생략 가능"
      ]
    },
    {
      "cell_type": "code",
      "execution_count": null,
      "id": "32c4a0fb",
      "metadata": {
        "id": "32c4a0fb"
      },
      "outputs": [],
      "source": [
        ""
      ]
    },
    {
      "cell_type": "code",
      "execution_count": null,
      "id": "d78a4ad3",
      "metadata": {
        "id": "d78a4ad3"
      },
      "outputs": [],
      "source": [
        ""
      ]
    },
    {
      "cell_type": "code",
      "execution_count": null,
      "id": "65e842ab",
      "metadata": {
        "id": "65e842ab"
      },
      "outputs": [],
      "source": [
        ""
      ]
    },
    {
      "cell_type": "code",
      "execution_count": null,
      "id": "1110dcb9",
      "metadata": {
        "id": "1110dcb9"
      },
      "outputs": [],
      "source": [
        ""
      ]
    },
    {
      "cell_type": "code",
      "execution_count": null,
      "id": "d4b348f6",
      "metadata": {
        "id": "d4b348f6"
      },
      "outputs": [],
      "source": [
        ""
      ]
    },
    {
      "cell_type": "code",
      "execution_count": null,
      "id": "c29593fe",
      "metadata": {
        "id": "c29593fe"
      },
      "outputs": [],
      "source": [
        ""
      ]
    },
    {
      "cell_type": "code",
      "execution_count": null,
      "id": "fc1bd149",
      "metadata": {
        "id": "fc1bd149"
      },
      "outputs": [],
      "source": [
        ""
      ]
    }
  ],
  "metadata": {
    "kernelspec": {
      "display_name": "Python 3",
      "language": "python",
      "name": "python3"
    },
    "language_info": {
      "codemirror_mode": {
        "name": "ipython",
        "version": 3
      },
      "file_extension": ".py",
      "mimetype": "text/x-python",
      "name": "python",
      "nbconvert_exporter": "python",
      "pygments_lexer": "ipython3",
      "version": "3.8.8"
    },
    "colab": {
      "name": "stock_LSTM.ipynb",
      "provenance": [],
      "include_colab_link": true
    }
  },
  "nbformat": 4,
  "nbformat_minor": 5
}